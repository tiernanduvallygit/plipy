{
 "cells": [
  {
   "cell_type": "markdown",
   "metadata": {
    "collapsed": true
   },
   "source": [
    "# The Magic of Tree Walking"
   ]
  },
  {
   "cell_type": "markdown",
   "metadata": {},
   "source": [
    "In this chapter we continue our discussion of IR design.  We introduce the idea of the Abstract Syntax Tree (AST) as an IR which is well suited for more complex languages.  We show that this intermediate representation can be directly derived from the grammar itself which facilitates the IR design. We illustrate these ideas with an interpreter that interprets our first high level language called Cuppa1.  This example also illustrates a very elegant way of processessing abstract syntax trees via something called *tree walking*.  We finish the chapter by designing a tree walker for a pretty printer with twist for our Cuppa1 language."
   ]
  },
  {
   "cell_type": "code",
   "execution_count": 1,
   "metadata": {
    "collapsed": true
   },
   "outputs": [],
   "source": [
    "# let the notebook access the code folder\n",
    "import sys\n",
    "sys.path.insert(1,\"code\")"
   ]
  },
  {
   "cell_type": "markdown",
   "metadata": {},
   "source": [
    "# Abstract Syntax Trees"
   ]
  },
  {
   "cell_type": "markdown",
   "metadata": {},
   "source": [
    "Our Exp1bytecode language from the last chapter was so straightforward that the best IR was an abstract representation of the instructions which we could then directly interpret.  In more complex languages, especially higher level languages, it is usually not possible to design such simple IRs.  Instead we use Abstract Syntax Trees (ASTs)."
   ]
  },
  {
   "cell_type": "markdown",
   "metadata": {},
   "source": [
    "![alt](figures/chap05/1/figure/Slide1.jpg)\n",
    "<p style=\"text-align: center;\">\n",
    "Fig 1. The parse tree and corresponding abstract syntax tree for expression: `+ x - y z`.\n",
    "</p>\n"
   ]
  },
  {
   "cell_type": "markdown",
   "metadata": {},
   "source": [
    "One way to think about ASTs is as parse trees with all the derivation information deleted.  Think about the grammar,\n",
    "```\n",
    "exp : + exp exp\n",
    "    | - exp exp\n",
    "    | x\n",
    "    | y\n",
    "    | z\n",
    "```\n",
    "and consider the expression,\n",
    "```\n",
    "+ x - y z\n",
    "```\n",
    "Figure 1 shows both the parse tree and the AST for this expression.  It should be easy to see that both trees represent the same computation, namely that the difference of `y` and `z` is added to `x`.  Abstract syntax trees just represent these computations in an easier and  much more accessible way.\n",
    "\n",
    "There is another interesting aspect of ASTs as IRs: Because every valid program has a parse tree, it is always possible to construct an AST for every valid program.  In this way ASTs are the IR of choice because it doesn’t matter how complex the programming language, there will always be an AST representation for any given valid program in that language."
   ]
  },
  {
   "cell_type": "markdown",
   "metadata": {},
   "source": [
    "## The Tuple Representation of ASTs"
   ]
  },
  {
   "cell_type": "markdown",
   "metadata": {},
   "source": [
    "A convenient way to represent AST nodes is with the following structure,\n",
    "```Python\n",
    "(TYPE [, child1, child2,...])\n",
    "```\n",
    "A tree node is a tuple where the first component represents the type or name of the node followed by zero or more components each representing a child of the current node.\n",
    "\n",
    "Consider the abstract syntax tree from Figure 1 for our expression `+ x - y x`.  That AST can be encoded in our tuple notation as follows,"
   ]
  },
  {
   "cell_type": "code",
   "execution_count": 2,
   "metadata": {
    "collapsed": true
   },
   "outputs": [],
   "source": [
    "ast = ('+', 'x', ('-', 'y', 'z'))"
   ]
  },
  {
   "cell_type": "markdown",
   "metadata": {},
   "source": [
    "In order to make this easier to read the module `grammar_stuff` provides a nice function that dumps the AST in a much more readable format."
   ]
  },
  {
   "cell_type": "code",
   "execution_count": 3,
   "metadata": {},
   "outputs": [
    {
     "name": "stdout",
     "output_type": "stream",
     "text": [
      "\n",
      "(+ x \n",
      "  |(- y z))\n"
     ]
    }
   ],
   "source": [
    "from grammar_stuff import dump_AST\n",
    "dump_AST(ast)"
   ]
  },
  {
   "cell_type": "markdown",
   "metadata": {},
   "source": [
    "# The Cuppa1 Programming Language"
   ]
  },
  {
   "cell_type": "markdown",
   "metadata": {},
   "source": [
    "The Cuppa1 language is a high level language and borrows many of its syntactic features from the C/Java family of languages.  The language provides high-level programming language constructs such as while loops and if-then-else statements in addition to standard arighmetic infix notation for expressions.\n",
    "\n",
    "Here is a first peek at the PLY grammar of the language."
   ]
  },
  {
   "cell_type": "markdown",
   "metadata": {},
   "source": [
    "```Python\n",
    "# %load code/cuppa1_gram.py\n",
    "# grammar for Cuppa1\n",
    "\n",
    "from ply import yacc\n",
    "from cuppa1_lex import tokens, lexer\n",
    "\n",
    "# set precedence and associativity\n",
    "# NOTE: all arithmetic operator need to have tokens\n",
    "#       so that we can put them into the precedence table\n",
    "precedence = (\n",
    "              ('left', 'EQ', 'LE'),\n",
    "              ('left', 'PLUS', 'MINUS'),\n",
    "              ('left', 'TIMES', 'DIVIDE'),\n",
    "              ('right', 'UMINUS', 'NOT')\n",
    "             )\n",
    "\n",
    "\n",
    "def p_grammar(_):\n",
    "    '''\n",
    "    program : stmt_list\n",
    "\n",
    "    stmt_list : stmt stmt_list\n",
    "              | empty\n",
    "\n",
    "    stmt : ID '=' exp opt_semi\n",
    "         | GET ID opt_semi\n",
    "         | PUT exp opt_semi\n",
    "         | WHILE '(' exp ')' stmt\n",
    "         | IF '(' exp ')' stmt opt_else\n",
    "         | '{' stmt_list '}'\n",
    "\n",
    "    opt_else : ELSE stmt\n",
    "             | empty\n",
    "             \n",
    "    opt_semi : ';'\n",
    "             | empty\n",
    "\n",
    "    exp : exp PLUS exp\n",
    "        | exp MINUS exp\n",
    "        | exp TIMES exp\n",
    "        | exp DIVIDE exp\n",
    "        | exp EQ exp\n",
    "        | exp LE exp\n",
    "        | INTEGER\n",
    "        | ID\n",
    "        | '(' exp ')'\n",
    "        | MINUS exp %prec UMINUS\n",
    "        | NOT exp\n",
    "    '''\n",
    "    pass\n",
    "\n",
    "def p_empty(p):\n",
    "    'empty :'\n",
    "    pass\n",
    "\n",
    "def p_error(t):\n",
    "    print(\"Syntax error at '%s'\" % t.value)\n",
    "\n",
    "### build the parser\n",
    "parser = yacc.yacc()\n",
    "```"
   ]
  },
  {
   "cell_type": "markdown",
   "metadata": {},
   "source": [
    "Ignore the precedence table for now.  Let's take a look at the grammar proper.  We see that programs are statement lists.  A statement list is a possibly empty list of statements and in Cuppa1 there are six different kinds of statements:\n",
    "\n",
    "* The assigment statement assigns the value of the expression `exp` on the right side of the `=` sign to the variable `ID` on the left side of the `=` sign.\n",
    "\n",
    "* The get statement asks the user to input an integer value which the get statement will assign to the variable `ID`. \n",
    "\n",
    "* The put statement prints out the value of the expression `exp` to the terminal.\n",
    "\n",
    "* The while loop will execute `stmt` that makes up its loop body as long as the condition `exp` evaluates to true.\n",
    "\n",
    "* The if statement will execute the statement `stmt` if the condition `exp` evaluates to true otherwise it will execute the else statement if present.\n",
    "\n",
    "* The block statement which a list of statements appearing within curly braces.\n",
    "\n",
    "Note that statements can be followed by an optional semicolon.\n",
    "\n",
    "Reading further in the grammar we see that expressions are infix and Cuppa1 supports all the normal arithmetic operations.  It also supports two relational operators: equal and less equal.  Expressions can also be integer values and variable names as well as parenthesized expressions and unary minus.\n",
    "\n",
    "It now is a good time to take look at the precedence table at the top of the grammar.  We need to tell the parser generator about the precendence and associativity of each arithmetic opertor so that the expressions are parsed correctly.  Consider the expression `3 * 4 + 1`.  Without the precedence and associativity information an LR parser would parse this as `3 * (4 + 1)` which is of course not correct knowing that multiplication has a higher precednce than addition.  If we inform the parser of the precedence and associativity of the various operators then an LR parser will parse this correctly as `(3 * 4) + 1`.  \n",
    "\n",
    "Looking at the precedence table more closely we see that all the operators are left associative with the exception of the unary minus which is right associative.\n",
    "We also see that the relational operators have the lowest precedence, addition and subtraction are at the next level, the multiplication and division operators are above that, and finally we have the unary minus at the highest level of precedence.  That is each row in the precedence table represents a precedence level and the rows are sorted in increasing precendence level.\n"
   ]
  },
  {
   "cell_type": "markdown",
   "metadata": {},
   "source": [
    "From the lexical perspective there are no surprises."
   ]
  },
  {
   "cell_type": "markdown",
   "metadata": {},
   "source": [
    "```Python\n",
    "# %load code/cuppa1_lex.py\n",
    "# Lexer for Cuppa1\n",
    "\n",
    "from ply import lex\n",
    "\n",
    "reserved = {\n",
    "    'get'   : 'GET',\n",
    "    'put'   : 'PUT',\n",
    "    'if'    : 'IF',\n",
    "    'else'  : 'ELSE',\n",
    "    'while' : 'WHILE',\n",
    "    'not'   : 'NOT'\n",
    "}\n",
    "\n",
    "literals = [';','=','(',')','{','}']\n",
    "\n",
    "tokens = [\n",
    "          'PLUS','MINUS','TIMES','DIVIDE',\n",
    "          'EQ','LE', \n",
    "          'INTEGER','ID',\n",
    "          ] + list(reserved.values())\n",
    "\n",
    "t_PLUS    = r'\\+'\n",
    "t_MINUS   = r'-'\n",
    "t_TIMES   = r'\\*'\n",
    "t_DIVIDE  = r'/'\n",
    "t_EQ      = r'=='\n",
    "t_LE      = r'<='\n",
    "\n",
    "t_ignore = ' \\t'\n",
    "\n",
    "def t_ID(t):\n",
    "    r'[a-zA-Z_][a-zA-Z_0-9]*'\n",
    "    t.type = reserved.get(t.value,'ID')    # Check for reserved words\n",
    "    return t\n",
    "\n",
    "def t_INTEGER(t):\n",
    "    r'[0-9]+'\n",
    "    return t\n",
    "\n",
    "def t_COMMENT(t):\n",
    "    r'//.*'\n",
    "    pass\n",
    "\n",
    "def t_NEWLINE(t):\n",
    "    r'\\n'\n",
    "    pass\n",
    "\n",
    "def t_error(t):\n",
    "    print(\"Illegal character %s\" % t.value[0])\n",
    "    t.lexer.skip(1)\n",
    "\n",
    "# build the lexer\n",
    "lexer = lex.lex(debug=0)\n",
    "```"
   ]
  },
  {
   "cell_type": "markdown",
   "metadata": {},
   "source": [
    "Perhaps the one thing to point out is the inclusion of comments that start with `//` and then run to the end of the line are now part of the language.\n",
    "\n",
    "Here are a couple of programs written in Cuppa1."
   ]
  },
  {
   "cell_type": "code",
   "execution_count": 4,
   "metadata": {
    "collapsed": true,
    "scrolled": true
   },
   "outputs": [],
   "source": [
    "from cuppa1_gram import parser\n",
    "from cuppa1_lex import lexer"
   ]
  },
  {
   "cell_type": "code",
   "execution_count": 5,
   "metadata": {
    "collapsed": true
   },
   "outputs": [],
   "source": [
    "p1 = \\\n",
    "'''\n",
    "get x\n",
    "x = x +1\n",
    "put x\n",
    "'''\n",
    "\n",
    "parser.parse(p1, lexer=lexer)"
   ]
  },
  {
   "cell_type": "code",
   "execution_count": 6,
   "metadata": {
    "collapsed": true
   },
   "outputs": [],
   "source": [
    "fact = \\\n",
    "'''\n",
    "get x;\n",
    "y = 1;\n",
    "while (1 <= x)\n",
    "{\n",
    "      y = y * x;\n",
    "      x = x - 1;\n",
    "}\n",
    "put y;\n",
    "'''\n",
    "\n",
    "parser.parse(fact, lexer=lexer)"
   ]
  },
  {
   "cell_type": "markdown",
   "metadata": {},
   "source": [
    "Here is an interesting program that loops forever but does nothing,"
   ]
  },
  {
   "cell_type": "code",
   "execution_count": 7,
   "metadata": {
    "collapsed": true
   },
   "outputs": [],
   "source": [
    "loop = \"while (1) {}\"\n",
    "\n",
    "parser.parse(loop, lexer=lexer)"
   ]
  },
  {
   "cell_type": "markdown",
   "metadata": {},
   "source": [
    "# The Cuppa1 Frontend"
   ]
  },
  {
   "cell_type": "markdown",
   "metadata": {},
   "source": [
    "In the technical jargon of programming language implementation a *frontent* is a parser that constructs an abstract syntax tree for an input program and fills in the symbol table with basic variable information. Our Cuppa1 frontend consists of the parser specification from above enriched with embedded actions that construct tuple based AST and fills in the symbol table with variable names that defined using either the assignment statement or the get statement.\n",
    "\n",
    "Before we get into the details of the frontend we need to introduce the Cuppa1 state.  A state in Cuppa1 is not unlike the state of the abstract machine for the Exp1bytecode.  Here the state is the computation represented by the AST together with a symbol table.  A state is an object,"
   ]
  },
  {
   "cell_type": "code",
   "execution_count": 8,
   "metadata": {
    "collapsed": true
   },
   "outputs": [],
   "source": [
    "# %load code/cuppa1_state\n",
    "\n",
    "class State:\n",
    "    def __init__(self):\n",
    "        self.initialize()\n",
    "\n",
    "    def initialize(self):\n",
    "        # symbol table to hold variable-value associations\n",
    "        self.symbol_table = {}\n",
    "\n",
    "        # when done parsing this variable will hold our AST\n",
    "        self.AST = None\n",
    "\n",
    "state = State()\n"
   ]
  },
  {
   "cell_type": "markdown",
   "metadata": {},
   "source": [
    "The member function `initialize` initializes a state object by clearing the symbol table and setting the AST to `None`.\n",
    "\n",
    "The full frontend specification consists of the [parser](code/cuppa1_frontend_gram.py), the [lexer](code/cuppa1_lex.py), and the [state](code/cuppa1_state.py) specifications.  Here we take a look at some telling aspects of the specification.  Perhaps the best part to start with is the specification of the statements."
   ]
  },
  {
   "cell_type": "markdown",
   "metadata": {},
   "source": [
    "## Statements"
   ]
  },
  {
   "cell_type": "code",
   "execution_count": 9,
   "metadata": {
    "collapsed": true
   },
   "outputs": [],
   "source": [
    "# %load -s p_stmt code/cuppa1_frontend_gram.py\n",
    "def p_stmt(p):\n",
    "    '''\n",
    "    stmt : ID '=' exp opt_semi\n",
    "         | GET ID opt_semi\n",
    "         | PUT exp opt_semi\n",
    "         | WHILE '(' exp ')' stmt\n",
    "         | IF '(' exp ')' stmt opt_else\n",
    "         | '{' stmt_list '}'\n",
    "    '''\n",
    "    if p[2] == '=':\n",
    "        p[0] = ('assign', p[1], p[3])\n",
    "        state.symbol_table[p[1]] = None\n",
    "    elif p[1] == 'get':\n",
    "        p[0] = ('get', p[2])\n",
    "        state.symbol_table[p[2]] = None\n",
    "    elif p[1] == 'put':\n",
    "        p[0] = ('put', p[2])\n",
    "    elif p[1] == 'while':\n",
    "        p[0] = ('while', p[3], p[5])\n",
    "    elif p[1] == 'if':\n",
    "        p[0] = ('if', p[3], p[5], p[6])\n",
    "    elif p[1] == '{':\n",
    "        p[0] = ('block', p[2])\n",
    "    else:\n",
    "        raise ValueError(\"unexpected symbol {}\".format(p[1]))\n"
   ]
  },
  {
   "cell_type": "markdown",
   "metadata": {},
   "source": [
    "Looking at the code carefully we see that the embedded actions build AST nodes for the corresponding statements.  Consider the assignment statement,\n",
    "```\n",
    "stmt : ID '=' exp opt_semi\n",
    "```\n",
    "The embedded actions for this grammar rule construct the following tuple where `p[1]` contains the name of the variable of the token `ID` and \n",
    "`p[3]` contains the AST generated by the non-terminal `exp`,\n",
    "```Python\n",
    "('assign', p[1], p[3])\n",
    "```\n",
    "In addition, the variable name in `p[1]` is written to the symbol table,\n",
    "```Python\n",
    "state.symbol_table[p[1]] = None\n",
    "```\n",
    "However, we are not doing any processing at this point so the value we record for the variable is set to `None`.  As pointed out above when we discussed the syntax of Cuppa1, the non-terminal `opt_semi` means that the statement can be followed by an optional semicolon.  \n",
    "\n",
    "The get statement specification follows a very similar pattern.  Here is the grammar rule for get statemments,\n",
    "```\n",
    "stmt : GET ID opt_semi\n",
    "```\n",
    "The corresponding embedded actions build a tuple where `p[2]` holds the variable name,\n",
    "```Python\n",
    "('get', p[2])\n",
    "```\n",
    "Again, the variable is recorded in the symbol table with its value set to `None`,\n",
    "```Python\n",
    "state.symbol_table[p[2]] = None\n",
    "```\n",
    "\n",
    "The remainder of the embedded actions are pretty straight forward with the execption perhaps of the if statement.  From our discussion on the syntax of Cuppa1 above we know that if statements come in two flavors: `if-then` and `if-then-else`.  Our frontend specification has to deal with these two flavors effectively.  From the grammar snippet above we have the rule,\n",
    "```\n",
    "stmt : IF '(' exp ')' stmt opt_else\n",
    "```\n",
    "which specifies that the `if-then` statement can be followed by an optional else-part.  The tuple that is being constructed is,\n",
    "```Python\n",
    "('if', p[3], p[5], p[6])\n",
    "```\n",
    "where `p[3]` is the AST generated by the non-terminal `exp`, `p[5]` is the AST generated by the non-terminal `stmt`.\n",
    "The question is, what does `p[6]` contain?  In order to answer this we need to take a look at the embedded actions for\n",
    "the rule defining the non-terminal `opt_else`."
   ]
  },
  {
   "cell_type": "code",
   "execution_count": 10,
   "metadata": {
    "collapsed": true
   },
   "outputs": [],
   "source": [
    "# %load -s p_opt_else code/cuppa1_frontend_gram.py\n",
    "def p_opt_else(p):\n",
    "    '''\n",
    "    opt_else : ELSE stmt\n",
    "             | empty\n",
    "    '''\n",
    "    if p[1] == 'else':\n",
    "        p[0] = p[2]\n",
    "    else:\n",
    "        p[0] = p[1]\n",
    "    "
   ]
  },
  {
   "cell_type": "markdown",
   "metadata": {},
   "source": [
    "The embedded actions for the `opt_else` non-terminal specify that if an else-part exists then copy the AST of the corresponding statement.  That means that `p[6]` above will have the AST of the else-statement if the else-part exists. If the else-part does not exist then we copy whatever the non-terminal `else` produces.\n",
    "\n",
    "For this we need to take a look at the definition of the non-terminal `empty`."
   ]
  },
  {
   "cell_type": "code",
   "execution_count": 11,
   "metadata": {
    "collapsed": true
   },
   "outputs": [],
   "source": [
    "# %load -s p_empty code/cuppa1_frontend_gram.py\n",
    "def p_empty(p):\n",
    "    'empty :'\n",
    "    p[0] = ('nil',)\n"
   ]
  },
  {
   "cell_type": "markdown",
   "metadata": {},
   "source": [
    "The embedded action for `empty` constructs a tuple with no children and of the type `nil`.  That means, `p[6]` in the embedded action for the if statement will have the node,\n",
    "```Python\n",
    "('nil',)\n",
    "```\n",
    "indicating that there is no else-part.  This is worthwhile to remember because later on when we actually walk the tree in order to do some processing we need to be aware of these to distinct tree patterns."
   ]
  },
  {
   "cell_type": "markdown",
   "metadata": {},
   "source": [
    "## Statement Lists and Programs"
   ]
  },
  {
   "cell_type": "markdown",
   "metadata": {},
   "source": [
    "Statement lists and programs are specified as follows in the frontend,"
   ]
  },
  {
   "cell_type": "code",
   "execution_count": 12,
   "metadata": {
    "collapsed": true
   },
   "outputs": [],
   "source": [
    "# %load -s p_prog,p_stmt_list code/cuppa1_frontend_gram.py\n",
    "def p_prog(p):\n",
    "    '''\n",
    "    program : stmt_list\n",
    "    '''\n",
    "    state.AST = p[1]\n",
    "\n",
    "#########################################################################\n",
    "def p_stmt_list(p):\n",
    "    '''\n",
    "    stmt_list : stmt stmt_list\n",
    "              | empty\n",
    "    '''\n",
    "    if (len(p) == 3):\n",
    "        p[0] = ('seq', p[1], p[2])\n",
    "    elif (len(p) == 2):\n",
    "        p[0] = p[1]\n",
    "\n"
   ]
  },
  {
   "cell_type": "markdown",
   "metadata": {},
   "source": [
    "Programs in Cuppa1 are lists of statements.  The embedded action for  the rule `program : stmt_list`  will copy\n",
    "the AST computed by the non-terminal `stmt_list` in `p[1]` into the AST field of the state.\n",
    "\n",
    "The rule for statement lists,\n",
    "```\n",
    "stmt_list : stmt stmt_list\n",
    "          | empty\n",
    "\n",
    "```\n",
    "states that statement lists consist of a stament followed by statement lists or they are empty.  \n",
    "For non-empty statement lists we need a way to glue all the different statements together in the AST.\n",
    "The traditional way to do this is with a 'sequennce' node.\n",
    "Let's take a look at the embedded action for non-empty statement lists,\n",
    "```Python\n",
    "p[0] = ('seq', p[1], p[2])\n",
    "```\n",
    "Here we construct an AST node of type `seq` where the first child is the AST computed by the non-terminal `stmt` and\n",
    "the second child is the AST of the rest of the statement list computed by the non-terminal `stmt_list`.  \n",
    "\n",
    "If the statement list is empty then the corresponding embedded action,\n",
    "```Python\n",
    "p[0] = p[1]\n",
    "```\n",
    "will copy the AST computed by the non-terminal `empty`.  We know from our previous disscussion that this AST is the tree node `('nil',)`.\n",
    "\n",
    "Now, for a program with two statements,\n",
    "```\n",
    "Stmt1\n",
    "Stmt2\n",
    "```\n",
    "our frontend will compute the following AST,\n",
    "```Python\n",
    "('seq',\n",
    "    <Stmt1>,\n",
    "    ('seq',\n",
    "       <Stmt2>,\n",
    "       ('nil',)))\n",
    "```\n",
    "where `<Stmt1>` and `<Stmt2>` represent the ASTs for the corresponding program statements `Stmt1` and `Stmt2`.\n",
    "It is easy to see that statement lists are `nil` terminated lists constructed with `seq` nodes.  We will study this in more detail once we finished our discussion of the frontend design.\n"
   ]
  },
  {
   "cell_type": "markdown",
   "metadata": {},
   "source": [
    "## Expressions"
   ]
  },
  {
   "cell_type": "markdown",
   "metadata": {},
   "source": [
    "We start our discussion of expressions in Cuppa1 with the binary operators,"
   ]
  },
  {
   "cell_type": "code",
   "execution_count": 13,
   "metadata": {
    "collapsed": true
   },
   "outputs": [],
   "source": [
    "# %load -s p_binop_exp code/cuppa1_frontend_gram.py\n",
    "def p_binop_exp(p):\n",
    "    '''\n",
    "    exp : exp PLUS exp\n",
    "        | exp MINUS exp\n",
    "        | exp TIMES exp\n",
    "        | exp DIVIDE exp\n",
    "        | exp EQ exp\n",
    "        | exp LE exp\n",
    "    '''\n",
    "    p[0] = (p[2], p[1], p[3])\n",
    " \n"
   ]
  },
  {
   "cell_type": "markdown",
   "metadata": {},
   "source": [
    "For each binary operator the embedded action constructs an AST node of type `binop`,\n",
    "```\n",
    "p[0] = (p[2], p[1], p[3])\n",
    "```\n",
    "where `p[2]` represents the operator name and `p[1]` and `p[2]` the AST of left and right subexpressions, respectively.  This is identical to the scheme of representing expressions developed for the Exp1bytecode interpreter in Chapter 4.  \n",
    "\n",
    "The remaining expression should look familiar at this point.  They are almost identical to the scheme we developed\n",
    "for the Exp1bytecode interpreter with the exception of the occasional name change,"
   ]
  },
  {
   "cell_type": "code",
   "execution_count": 14,
   "metadata": {
    "collapsed": true
   },
   "outputs": [],
   "source": [
    "# %load -s p_integer_exp,p_id_exp,p_paren_exp,p_uminus_exp,p_not_exp code/cuppa1_frontend_gram.py\n",
    "def p_integer_exp(p):\n",
    "    '''\n",
    "    exp : INTEGER\n",
    "    '''\n",
    "    p[0] = ('integer', int(p[1]))\n",
    "    \n",
    "#########################################################################\n",
    "\n",
    "def p_id_exp(p):\n",
    "    '''\n",
    "    exp : ID\n",
    "    '''\n",
    "    p[0] = ('id', p[1])\n",
    "\n",
    "#########################################################################\n",
    "\n",
    "def p_paren_exp(p):\n",
    "    '''\n",
    "    exp : '(' exp ')'\n",
    "    '''\n",
    "    p[0] = ('paren', p[2])\n",
    "    \n",
    "#########################################################################\n",
    "\n",
    "def p_uminus_exp(p):\n",
    "    '''\n",
    "    exp : MINUS exp %prec UMINUS\n",
    "    '''\n",
    "    p[0] = ('uminus', p[2])\n",
    "\n",
    "#########################################################################\n",
    "\n",
    "def p_not_exp(p):\n",
    "    '''\n",
    "    exp : NOT exp\n",
    "    '''\n",
    "    p[0] = ('not', p[2])\n",
    "\n",
    "#########################################################################\n"
   ]
  },
  {
   "cell_type": "markdown",
   "metadata": {},
   "source": [
    "## Generating ASTs"
   ]
  },
  {
   "cell_type": "markdown",
   "metadata": {},
   "source": [
    "We are now in a position to take a look at the AST our Cuppa1 frontend will generate for an input program.\n",
    "\n",
    "First, let's load the necessary modules."
   ]
  },
  {
   "cell_type": "code",
   "execution_count": 15,
   "metadata": {
    "collapsed": true
   },
   "outputs": [],
   "source": [
    "from cuppa1_frontend_gram import parser\n",
    "from cuppa1_lex import lexer\n",
    "from cuppa1_state import state\n",
    "from grammar_stuff import dump_AST"
   ]
  },
  {
   "cell_type": "markdown",
   "metadata": {},
   "source": [
    "Let's start with something simple,"
   ]
  },
  {
   "cell_type": "code",
   "execution_count": 16,
   "metadata": {
    "collapsed": true
   },
   "outputs": [],
   "source": [
    "state.initialize()\n",
    "parser.parse(\"get x; put x\", lexer=lexer)"
   ]
  },
  {
   "cell_type": "code",
   "execution_count": 17,
   "metadata": {},
   "outputs": [
    {
     "name": "stdout",
     "output_type": "stream",
     "text": [
      "\n",
      "(seq \n",
      "  |(get x) \n",
      "  |(seq \n",
      "  |  |(put \n",
      "  |  |  |(id x)) \n",
      "  |  |(nil)))\n"
     ]
    }
   ],
   "source": [
    "dump_AST(state.AST)"
   ]
  },
  {
   "cell_type": "code",
   "execution_count": 18,
   "metadata": {},
   "outputs": [
    {
     "data": {
      "text/plain": [
       "{'x': None}"
      ]
     },
     "execution_count": 18,
     "metadata": {},
     "output_type": "execute_result"
    }
   ],
   "source": [
    "state.symbol_table"
   ]
  },
  {
   "cell_type": "markdown",
   "metadata": {},
   "source": [
    "As expected, the AST generated for our program is the `nil` terminated `sequence` of the get and put statements. The symbol table has an entry for `x` since the get statement defines this variable by assigning it the value the user would input if the program were executed.\n",
    "\n",
    "Let's put an assignment statement between the get and the put,"
   ]
  },
  {
   "cell_type": "code",
   "execution_count": 19,
   "metadata": {
    "collapsed": true
   },
   "outputs": [],
   "source": [
    "state.initialize()\n",
    "parser.parse(\"get x; x = x + 1; put x\", lexer=lexer)"
   ]
  },
  {
   "cell_type": "code",
   "execution_count": 20,
   "metadata": {},
   "outputs": [
    {
     "name": "stdout",
     "output_type": "stream",
     "text": [
      "\n",
      "(seq \n",
      "  |(get x) \n",
      "  |(seq \n",
      "  |  |(assign x \n",
      "  |  |  |(+ \n",
      "  |  |  |  |(id x) \n",
      "  |  |  |  |(integer 1))) \n",
      "  |  |(seq \n",
      "  |  |  |(put \n",
      "  |  |  |  |(id x)) \n",
      "  |  |  |(nil))))\n"
     ]
    }
   ],
   "source": [
    "dump_AST(state.AST)"
   ]
  },
  {
   "cell_type": "code",
   "execution_count": 21,
   "metadata": {},
   "outputs": [
    {
     "data": {
      "text/plain": [
       "{'x': None}"
      ]
     },
     "execution_count": 21,
     "metadata": {},
     "output_type": "execute_result"
    }
   ],
   "source": [
    "state.symbol_table"
   ]
  },
  {
   "cell_type": "markdown",
   "metadata": {},
   "source": [
    "As one would expect, the sequence of statements now also contains the assignment statement.  The symbol table still only as the variable `x` in it because it is the only variable being defined by this program.\n",
    "\n",
    "Let's try our degenerate while loop program from above -- the one that loops forever and does nothing,"
   ]
  },
  {
   "cell_type": "code",
   "execution_count": 22,
   "metadata": {
    "collapsed": true
   },
   "outputs": [],
   "source": [
    "state.initialize()\n",
    "parser.parse(\"while (1) {}\", lexer=lexer)"
   ]
  },
  {
   "cell_type": "code",
   "execution_count": 23,
   "metadata": {},
   "outputs": [
    {
     "name": "stdout",
     "output_type": "stream",
     "text": [
      "\n",
      "(seq \n",
      "  |(while \n",
      "  |  |(integer 1) \n",
      "  |  |(block \n",
      "  |  |  |(nil))) \n",
      "  |(nil))\n"
     ]
    }
   ],
   "source": [
    "dump_AST(state.AST)"
   ]
  },
  {
   "cell_type": "markdown",
   "metadata": {},
   "source": [
    "It is perhaps intesting to look at the AST for the while loop.  The first child of the while node is the condition expression of the loop here set to the integer 1.  The second child is the body of the loop represented by a block statement with no statements.\n",
    "\n",
    "The next two programs deal with if statements.  The first program is a simple if statement without an else part.\n",
    "Notice that the missing else part is represented by a `nil` node.  The second program has an if-then-else statement. Here all three children are present.  "
   ]
  },
  {
   "cell_type": "code",
   "execution_count": 24,
   "metadata": {
    "collapsed": true
   },
   "outputs": [],
   "source": [
    "state.initialize()\n",
    "parser.parse(\"get x; if (0 <= x) put 1\", lexer=lexer)"
   ]
  },
  {
   "cell_type": "code",
   "execution_count": 25,
   "metadata": {},
   "outputs": [
    {
     "name": "stdout",
     "output_type": "stream",
     "text": [
      "\n",
      "(seq \n",
      "  |(get x) \n",
      "  |(seq \n",
      "  |  |(if \n",
      "  |  |  |(<= \n",
      "  |  |  |  |(integer 0) \n",
      "  |  |  |  |(id x)) \n",
      "  |  |  |(put \n",
      "  |  |  |  |(integer 1)) \n",
      "  |  |  |(nil)) \n",
      "  |  |(nil)))\n"
     ]
    }
   ],
   "source": [
    "dump_AST(state.AST)"
   ]
  },
  {
   "cell_type": "code",
   "execution_count": 26,
   "metadata": {
    "collapsed": true
   },
   "outputs": [],
   "source": [
    "parser.parse(\"get x; if (0 <= x) put 1 else put 2\", lexer=lexer)"
   ]
  },
  {
   "cell_type": "code",
   "execution_count": 27,
   "metadata": {},
   "outputs": [
    {
     "name": "stdout",
     "output_type": "stream",
     "text": [
      "\n",
      "(seq \n",
      "  |(get x) \n",
      "  |(seq \n",
      "  |  |(if \n",
      "  |  |  |(<= \n",
      "  |  |  |  |(integer 0) \n",
      "  |  |  |  |(id x)) \n",
      "  |  |  |(put \n",
      "  |  |  |  |(integer 1)) \n",
      "  |  |  |(put \n",
      "  |  |  |  |(integer 2))) \n",
      "  |  |(nil)))\n"
     ]
    }
   ],
   "source": [
    "dump_AST(state.AST)"
   ]
  },
  {
   "cell_type": "markdown",
   "metadata": {},
   "source": [
    "Finally, let's try something more complicated.  Here we look at a program from the Cuppa1 examples that computes the factorial value of `x` in the variable `y`."
   ]
  },
  {
   "cell_type": "code",
   "execution_count": 28,
   "metadata": {
    "collapsed": true
   },
   "outputs": [],
   "source": [
    "from cuppa1_examples import fact"
   ]
  },
  {
   "cell_type": "code",
   "execution_count": 29,
   "metadata": {},
   "outputs": [
    {
     "name": "stdout",
     "output_type": "stream",
     "text": [
      "\n",
      "get x;\n",
      "y = 1;\n",
      "while (1 <= x)\n",
      "{\n",
      "      y = y * x;\n",
      "      x = x - 1;\n",
      "}\n",
      "put y;\n",
      "\n"
     ]
    }
   ],
   "source": [
    "print(fact)"
   ]
  },
  {
   "cell_type": "code",
   "execution_count": 30,
   "metadata": {
    "collapsed": true
   },
   "outputs": [],
   "source": [
    "state.initialize()\n",
    "parser.parse(fact, lexer=lexer)"
   ]
  },
  {
   "cell_type": "code",
   "execution_count": 31,
   "metadata": {},
   "outputs": [
    {
     "name": "stdout",
     "output_type": "stream",
     "text": [
      "\n",
      "(seq \n",
      "  |(get x) \n",
      "  |(seq \n",
      "  |  |(assign y \n",
      "  |  |  |(integer 1)) \n",
      "  |  |(seq \n",
      "  |  |  |(while \n",
      "  |  |  |  |(<= \n",
      "  |  |  |  |  |(integer 1) \n",
      "  |  |  |  |  |(id x)) \n",
      "  |  |  |  |(block \n",
      "  |  |  |  |  |(seq \n",
      "  |  |  |  |  |  |(assign y \n",
      "  |  |  |  |  |  |  |(* \n",
      "  |  |  |  |  |  |  |  |(id y) \n",
      "  |  |  |  |  |  |  |  |(id x))) \n",
      "  |  |  |  |  |  |(seq \n",
      "  |  |  |  |  |  |  |(assign x \n",
      "  |  |  |  |  |  |  |  |(- \n",
      "  |  |  |  |  |  |  |  |  |(id x) \n",
      "  |  |  |  |  |  |  |  |  |(integer 1))) \n",
      "  |  |  |  |  |  |  |(nil))))) \n",
      "  |  |  |(seq \n",
      "  |  |  |  |(put \n",
      "  |  |  |  |  |(id y)) \n",
      "  |  |  |  |(nil)))))\n"
     ]
    }
   ],
   "source": [
    "dump_AST(state.AST)"
   ]
  },
  {
   "cell_type": "code",
   "execution_count": 32,
   "metadata": {},
   "outputs": [
    {
     "data": {
      "text/plain": [
       "{'x': None, 'y': None}"
      ]
     },
     "execution_count": 32,
     "metadata": {},
     "output_type": "execute_result"
    }
   ],
   "source": [
    "state.symbol_table"
   ]
  },
  {
   "cell_type": "markdown",
   "metadata": {},
   "source": [
    "The AST is starting to get pretty big.  You should try to walk through the AST and trace every component of the AST back to the language construct in the `fact` source program.  The symbol table has the variables `x` and `y` in it which is not surprising because those are the two variables being defined by get/assignment statements."
   ]
  },
  {
   "cell_type": "markdown",
   "metadata": {},
   "source": [
    "# Tree Walking"
   ]
  },
  {
   "cell_type": "markdown",
   "metadata": {},
   "source": [
    "Trees are recursive data structures where each node in the tree other than leaf nodes is defined in terms of other tree nodes.  Consider a binary tree for example.  Here each node in the tree is defined in terms of a left and a right tree node and these nodes in turn are binary tree nodes themselves defined in terms of left and right nodes and so on until we reach the leaf nodes.\n",
    "\n",
    "This recursive structure of trees gives rise to an elegant way of processing trees: *tree walking*.  A tree walker typically starts at the root node and traverses the tree in a depth first manner (Figure 2)."
   ]
  },
  {
   "cell_type": "markdown",
   "metadata": {},
   "source": [
    "![alt](figures/chap05/2/figure/Slide1.jpg)\n",
    "<p style=\"text-align: center;\">\n",
    "Fig 2. An abstract syntax tree for the expression `3*2+4`.  The red arrows indicate a typical tree walker traversal.\n",
    "</p>\n"
   ]
  },
  {
   "cell_type": "markdown",
   "metadata": {},
   "source": [
    "To make this processing computationally feasible in Python we map ASTs to our tuple notation.  For the tree in Figure 2 the tuple notation is,"
   ]
  },
  {
   "cell_type": "code",
   "execution_count": 33,
   "metadata": {
    "collapsed": true
   },
   "outputs": [],
   "source": [
    "ast = ('+', ('*', ('integer', 3), ('integer', 2)), ('integer', 4))"
   ]
  },
  {
   "cell_type": "markdown",
   "metadata": {},
   "source": [
    "In order to make it look pretty we can use our `dump_AST` function,"
   ]
  },
  {
   "cell_type": "code",
   "execution_count": 34,
   "metadata": {},
   "outputs": [
    {
     "name": "stdout",
     "output_type": "stream",
     "text": [
      "\n",
      "(+ \n",
      "  |(* \n",
      "  |  |(integer 3) \n",
      "  |  |(integer 2)) \n",
      "  |(integer 4))\n"
     ]
    }
   ],
   "source": [
    "from grammar_stuff import dump_AST\n",
    "\n",
    "dump_AST(ast)"
   ]
  },
  {
   "cell_type": "markdown",
   "metadata": {},
   "source": [
    "## A Simple Tree Walker"
   ]
  },
  {
   "cell_type": "markdown",
   "metadata": {},
   "source": [
    "A clever way to implement a tree walker is to essentially mirror the recursive nature of the tree in the walker itself.  That is, for every type of tree node the walker provides a processing routine that knows how to deal with the structure of that node, it doesn't matter if it is an internal tree node or a leaf node.  If it is an internal node then the walker calls itself recursively on the child nodes.  Consider that we want to evaluate the AST for the expression above to its integer value.  Our expression tree has three types of nodes: addition, multiplication, and integer constant nodes.  We can define a tree walker to do this as follows,"
   ]
  },
  {
   "cell_type": "code",
   "execution_count": 35,
   "metadata": {
    "collapsed": true
   },
   "outputs": [],
   "source": [
    "def const(node):\n",
    "    # pattern match the constant node\n",
    "    (INTEGER, val) = node\n",
    "    \n",
    "    # return the value as an integer value\n",
    "    return int(val)\n",
    "\n",
    "def add(node):\n",
    "    # pattern match the tree node\n",
    "    (ADD, left, right) = node\n",
    "    \n",
    "    # recursively call the walker on the children\n",
    "    left_val = walk(left)\n",
    "    right_val = walk(right)\n",
    "    \n",
    "    # return the sum of the values of the children\n",
    "    return left_val + right_val\n",
    "\n",
    "def mult(node):\n",
    "    # pattern match the tree node\n",
    "    (MULT, left, right) = node\n",
    "    \n",
    "    # recursively call the walker on the children\n",
    "    left_val = walk(left)\n",
    "    right_val = walk(right)\n",
    "    \n",
    "    # return the product of the values of the children\n",
    "    return left_val * right_val\n"
   ]
  },
  {
   "cell_type": "markdown",
   "metadata": {},
   "source": [
    "Notice that our walker has one function for each node type in our AST.  Also notice that we are using Python's ability to pattern match tuples in order to extract the components of the various tree node types.\n",
    "The question now is, how do we get the tree walker to call the appropriate function for the node that it is currently processing?  The answer is a dispatch dictionary for AST node types."
   ]
  },
  {
   "cell_type": "code",
   "execution_count": 36,
   "metadata": {
    "collapsed": true
   },
   "outputs": [],
   "source": [
    "dispatch_dict = {\n",
    "    '+' : add,\n",
    "    '*' : mult,\n",
    "    'integer' : const\n",
    "}"
   ]
  },
  {
   "cell_type": "markdown",
   "metadata": {},
   "source": [
    "The keys in the dispatch dictionary are the node types of our AST and the values are the functions that can process each of those tree node types respectively.  That is, the dispatch dictionary associates node types with their corresponding functions.\n",
    "\n",
    "Finally, we are in a position to define our tree walker proper."
   ]
  },
  {
   "cell_type": "code",
   "execution_count": 37,
   "metadata": {
    "collapsed": true
   },
   "outputs": [],
   "source": [
    "def walk(node):\n",
    "    # first component of any tree node is its type\n",
    "    t = node[0]\n",
    "    \n",
    "    # lookup the function for this node\n",
    "    node_function = dispatch_dict[t]\n",
    "    \n",
    "    # now call this function on our node and capture the return value\n",
    "    val = node_function(node)\n",
    "    \n",
    "    return val"
   ]
  },
  {
   "cell_type": "markdown",
   "metadata": {},
   "source": [
    "If you look carefully at this tree walker you will notice that it implements precisely the depth-first traversal given in Figure 2 by recursively calling the `walk` function which in turn will dispatch the appropriate node function.\n",
    "\n",
    "Let's walk our AST for expression `3*2+4`,"
   ]
  },
  {
   "cell_type": "code",
   "execution_count": 38,
   "metadata": {},
   "outputs": [
    {
     "name": "stdout",
     "output_type": "stream",
     "text": [
      "10\n"
     ]
    }
   ],
   "source": [
    "print(walk(ast))"
   ]
  },
  {
   "cell_type": "markdown",
   "metadata": {},
   "source": [
    "The walker returns the value `10` as we would expect from the evaluation of this term using the standard rules of arithmetic.\n",
    "\n",
    "<!-- TODO: movie for this interpretation tree walkder -->"
   ]
  },
  {
   "cell_type": "markdown",
   "metadata": {},
   "source": [
    "## Tree Walkers are Plug'n Play"
   ]
  },
  {
   "cell_type": "markdown",
   "metadata": {},
   "source": [
    "Tree walkers exist completely separately from the AST.  Sure, they have to follow the rules of the recursively nature of the tree they are supposed to evaluate but other than that walkers are completely separate from the definition of an AST.  From an architectural perspective we can view this as depicted in Figure 3.  The walker plugs into the AST and processes it using its node functions."
   ]
  },
  {
   "cell_type": "markdown",
   "metadata": {},
   "source": [
    "![alt](figures/chap05/3/figure/Slide1.jpg)\n",
    "<p style=\"text-align: center;\">\n",
    "Fig 3. The high-level architecture of a tree walker.\n",
    "</p>\n"
   ]
  },
  {
   "cell_type": "markdown",
   "metadata": {},
   "source": [
    "This gives rise to the idea of 'plug'n play' for tree walkers: In order to process an AST we select/build an appropriate tree walker and plug it into the AST and start processing.\n",
    "\n",
    "Taking this idea a step further, there is nothing to prevent us from plugging in multiple walkers during the processing of an AST, each performing a distinct phase of the processing.  Figure 4 illustrates this approach.  Here the frontend builds the AST, the walkers process the AST and the final walker generates the appropriate output. At the end of this chapter we will encounter a pretty printer for Cuppa1 that does exactly this: it has multiple walkers each performing a distinct task and the last one generates the pretty printed output."
   ]
  },
  {
   "cell_type": "markdown",
   "metadata": {},
   "source": [
    "![alt](figures/chap05/4/figure/Slide1.jpg)\n",
    "<p style=\"text-align: center;\">\n",
    "Fig 4. Tree walker plug'n play, processing an AST with multiple walkers.\n",
    "</p>\n"
   ]
  },
  {
   "cell_type": "markdown",
   "metadata": {},
   "source": [
    "# An Interpreter for Cuppa1"
   ]
  },
  {
   "cell_type": "markdown",
   "metadata": {},
   "source": [
    "We now have all the machinery in place to write a tree walking based interpreter for Cuppa1.  The tree walker follows the structure of the walker outlined in the previous section: it consists of a walk function, a dispatch dictionary, and a set of node functions (one for each AST node type).  Conceptually we can think of the architecture as shown in Figure 5.  The frontend builds the AST and our tree walker interprets the AST and produces the output of the program execution."
   ]
  },
  {
   "cell_type": "markdown",
   "metadata": {},
   "source": [
    "![alt](figures/chap05/5/figure/Slide1.jpg)\n",
    "<p style=\"text-align: center;\">\n",
    "Fig 5. The architecture of the Cuppa1 interpreter.\n",
    "</p>\n"
   ]
  },
  {
   "cell_type": "markdown",
   "metadata": {
    "collapsed": true
   },
   "source": [
    "Let's start by looking at the `walk` function and the dispatch dictionary of the tree walker."
   ]
  },
  {
   "cell_type": "code",
   "execution_count": 39,
   "metadata": {
    "collapsed": true
   },
   "outputs": [],
   "source": [
    "from cuppa1_interp_walk import *\n",
    "from grammar_stuff import assert_match"
   ]
  },
  {
   "cell_type": "code",
   "execution_count": 40,
   "metadata": {
    "collapsed": true
   },
   "outputs": [],
   "source": [
    "# %load -r 212-247 code/cuppa1_interp_walk.py\n",
    "#########################################################################\n",
    "# walk\n",
    "#########################################################################\n",
    "def walk(node):\n",
    "    # node format: (TYPE, [child1[, child2[, ...]]])\n",
    "    type = node[0]\n",
    "    \n",
    "    if type in dispatch_dict:\n",
    "        node_function = dispatch_dict[type]\n",
    "        return node_function(node)\n",
    "    else:\n",
    "        raise ValueError(\"walk: unknown tree node type: \" + type)\n",
    "\n",
    "# a dictionary to associate tree nodes with node functions\n",
    "dispatch_dict = {\n",
    "    'seq'     : seq,\n",
    "    'nil'     : nil,\n",
    "    'assign'  : assign_stmt,\n",
    "    'get'     : get_stmt,\n",
    "    'put'     : put_stmt,\n",
    "    'while'   : while_stmt,\n",
    "    'if'      : if_stmt,\n",
    "    'block'   : block_stmt,\n",
    "    'integer' : integer_exp,\n",
    "    'id'      : id_exp,\n",
    "    'paren'   : paren_exp,\n",
    "    '+'       : plus_exp,\n",
    "    '-'       : minus_exp,\n",
    "    '*'       : times_exp,\n",
    "    '/'       : divide_exp,\n",
    "    '=='      : eq_exp,\n",
    "    '<='      : le_exp,\n",
    "    'uminus'  : uminus_exp,\n",
    "    'not'     : not_exp\n",
    "}\n"
   ]
  },
  {
   "cell_type": "markdown",
   "metadata": {},
   "source": [
    "The `walk` function accesses the node type information and uses this to look up the appropriate node function in the dispatch dictionary.  The node function is then applied to the node itself.  With the exception of additional error handling this works exactly the same way as the expression walker defined in the previous section.\n",
    "\n",
    "A good function to start our discussion of node functions is the node function for assignment statements."
   ]
  },
  {
   "cell_type": "code",
   "execution_count": 41,
   "metadata": {
    "collapsed": true
   },
   "outputs": [],
   "source": [
    "# %load -s assign_stmt code/cuppa1_interp_walk.py\n",
    "def assign_stmt(node):\n",
    "\n",
    "    (ASSIGN, name, exp) = node\n",
    "    assert_match(ASSIGN, 'assign')\n",
    "    \n",
    "    value = walk(exp)\n",
    "    state.symbol_table[name] = value\n"
   ]
  },
  {
   "cell_type": "markdown",
   "metadata": {},
   "source": [
    "The function pattern matches the assignment tree node.  Here we have some additional error checking in the form of the `assert_match` function that makes sure the the type of the current tree node is really the type that we are expecting (By the way, defensive programming of this kind is a good way to help you debug your tree walkers).  The match extracts the name of the variable of the assignment and the AST for the expression.\n",
    "The expression needs to be evaluated in order to compute a value to be assigned to the variable.  To compute the value of the the expression we walk it!  Once we have a value then we can associate the variable with the value in the symbol table. And this is all there is to it! Because we have defined a node function for each type of node that can appear in the AST it seems almost like magic that all you have to do is call the `walk` function to get a value back from an expression.  Note that in Cuppa1 statements do not have any return value, only expressions have return values.\n",
    "\n",
    "What does the interpretation of `seq` nodes look like?  Let's take a look,"
   ]
  },
  {
   "cell_type": "code",
   "execution_count": 42,
   "metadata": {
    "collapsed": true
   },
   "outputs": [],
   "source": [
    "# %load -s seq code/cuppa1_interp_walk.py\n",
    "def seq(node):\n",
    "    \n",
    "    (SEQ, stmt, stmt_list) = node\n",
    "    assert_match(SEQ, 'seq')\n",
    "    \n",
    "    walk(stmt)\n",
    "    walk(stmt_list)\n"
   ]
  },
  {
   "cell_type": "markdown",
   "metadata": {},
   "source": [
    "The first child of a `seq` node is the AST of a statement and the second child is the rest of the sequence of statements.  In order to interpret a `seq` node we walk the statement and then we walk the rest of the list.\n",
    "\n",
    "The interpretation of the `nil` node is probably another interesting case to look at,"
   ]
  },
  {
   "cell_type": "code",
   "execution_count": 43,
   "metadata": {
    "collapsed": true
   },
   "outputs": [],
   "source": [
    "# %load -s nil code/cuppa1_interp_walk.py\n",
    "def nil(node):\n",
    "    \n",
    "    (NIL,) = node\n",
    "    assert_match(NIL, 'nil')\n",
    "    \n",
    "    # do nothing!\n",
    "    pass\n"
   ]
  },
  {
   "cell_type": "markdown",
   "metadata": {},
   "source": [
    "The intpretation of a `nil` node is to do nothing!\n",
    "\n",
    "Let's take a look at the interpretation of a while loop."
   ]
  },
  {
   "cell_type": "code",
   "execution_count": 44,
   "metadata": {
    "collapsed": true
   },
   "outputs": [],
   "source": [
    "# %load -s while_stmt code/cuppa1_interp_walk.py\n",
    "def while_stmt(node):\n",
    "\n",
    "    (WHILE, cond, body) = node\n",
    "    assert_match(WHILE, 'while')\n",
    "    \n",
    "    value = walk(cond)\n",
    "    while value != 0:\n",
    "        walk(body)\n",
    "        value = walk(cond)\n"
   ]
  },
  {
   "cell_type": "markdown",
   "metadata": {},
   "source": [
    "The interpretation is probably just the way you had imagined.  We walk the condition of the loop before the try to execute in order to obtain a value for the condition.  Then, if the value of the condition is not equal to zero, *i.e.* false in our interpretation, we execute the loop body by -- you guessed it -- walking it.  Once we executed the body we walk the condition again to see if we should continue to execute the loop.  Once the condition evaluates to something non-zero the loop stops and we return from this node function.  Again, as we mentioned above statements in Cuppa1 do not have any return values.\n",
    "\n",
    "Perhaps the most complicated statement to interpret is the if statement because it comes in two flavors: one with the else part and one without the else part.  Our node function has to recognize which flavor it is dealing with and then perform the right interpretation."
   ]
  },
  {
   "cell_type": "code",
   "execution_count": 45,
   "metadata": {
    "collapsed": true
   },
   "outputs": [],
   "source": [
    "# %load -s if_stmt code/cuppa1_interp_walk.py\n",
    "def if_stmt(node):\n",
    "    \n",
    "    try: # try the if-then pattern\n",
    "        (IF, cond, then_stmt, (NIL,)) = node\n",
    "        assert_match(IF, 'if')\n",
    "        assert_match(NIL, 'nil')\n",
    "\n",
    "    except ValueError: # if-then pattern didn't match\n",
    "        (IF, cond, then_stmt, else_stmt) = node\n",
    "        assert_match(IF, 'if')\n",
    "\n",
    "        value = walk(cond)\n",
    "        if value != 0:\n",
    "            walk(then_stmt)\n",
    "        else:\n",
    "            walk(else_stmt)\n",
    "        return\n",
    " \n",
    "    else: # if-then pattern matched\n",
    "        value = walk(cond)\n",
    "        if value != 0:\n",
    "            walk(then_stmt)\n",
    "        return\n"
   ]
  },
  {
   "cell_type": "markdown",
   "metadata": {},
   "source": [
    "This node function tries to pattern match the if statement flavor without the else part with a try-except-else statement.  Notice the pattern with the `nil` node.  If the pattern match is successful then Python will execute the else part of the try statement.  Here, if the condition of the if statement is non-zero the node function will execute the then part of the if statement otherwise it will just return.\n",
    "\n",
    "Now, if the if-then pattern match was not successful that means the else part of the if statement is not a `nil` node.\n",
    "In this case we pattern match the if-then-else tree node, evaluate the condition, and then execute the appropriate statement: the then part if the condition is non-zero, the else part if the condition was zero.\n",
    "\n",
    "The last two things we should look at is the interpretation of an arithmetic and a relational operator.  Consider the `<=` operator,"
   ]
  },
  {
   "cell_type": "code",
   "execution_count": 46,
   "metadata": {
    "collapsed": true
   },
   "outputs": [],
   "source": [
    "# %load -s le_exp code/cuppa1_interp_walk.py\n",
    "def le_exp(node):\n",
    "    \n",
    "    (LE,c1,c2) = node\n",
    "    assert_match(LE, '<=')\n",
    "    \n",
    "    v1 = walk(c1)\n",
    "    v2 = walk(c2)\n",
    "    \n",
    "    return 1 if v1 <= v2 else 0\n"
   ]
  },
  {
   "cell_type": "markdown",
   "metadata": {},
   "source": [
    "After pattern matching this node function walks the left and right children of our operator tree node to obtain the values for the children expressions.  Lucky for us Python directly implements the `<=` operator so we can use it for our interpretation but we need to take care of the return values.  Cuppa1 does not deal with `True/False` Boolean values but with non-zero for a true value and zero for a false value.  So we need to map the Boolean values the the Python `<=` operator returns into the proper return values for Cuppa1."
   ]
  },
  {
   "cell_type": "markdown",
   "metadata": {},
   "source": [
    "The interpretation of the addition operator works in a very similar fashion except that we add the values rather than performing a relational operation on them,"
   ]
  },
  {
   "cell_type": "code",
   "execution_count": 47,
   "metadata": {
    "collapsed": true
   },
   "outputs": [],
   "source": [
    "# %load -s plus_exp code/cuppa1_interp_walk.py\n",
    "def plus_exp(node):\n",
    "    \n",
    "    (PLUS,c1,c2) = node\n",
    "    assert_match(PLUS, '+')\n",
    "    \n",
    "    v1 = walk(c1)\n",
    "    v2 = walk(c2)\n",
    "    \n",
    "    return v1 + v2\n"
   ]
  },
  {
   "cell_type": "markdown",
   "metadata": {},
   "source": [
    "The full [implementation](code/cuppa1_interp_walk.py) of the tree walker."
   ]
  },
  {
   "cell_type": "markdown",
   "metadata": {},
   "source": [
    "## Running the Interpreter"
   ]
  },
  {
   "cell_type": "markdown",
   "metadata": {},
   "source": [
    "In order to run the interpreter we'll provide a interpretation function that pulls building the AST, dealing with the state, and running the walking together."
   ]
  },
  {
   "cell_type": "markdown",
   "metadata": {
    "collapsed": true
   },
   "source": [
    "```python\n",
    "# %load code/cuppa1_interp.py\n",
    "#!/usr/bin/env python\n",
    "# Cuppa1 interpreter\n",
    "\n",
    "from argparse import ArgumentParser\n",
    "from cuppa1_lex import lexer\n",
    "from cuppa1_frontend_gram import parser\n",
    "from cuppa1_state import state\n",
    "from cuppa1_interp_walk import walk\n",
    "\n",
    "def interp(input_stream):\n",
    "\n",
    "    # initialize the state object\n",
    "    state.initialize()\n",
    "\n",
    "    # build the AST\n",
    "    parser.parse(input_stream, lexer=lexer)\n",
    "\n",
    "    # walk the AST\n",
    "    walk(state.AST)\n",
    "\n",
    "if __name__ == \"__main__\":\n",
    "    # parse command line args\n",
    "    aparser = ArgumentParser()\n",
    "    aparser.add_argument('input')\n",
    "\n",
    "    args = vars(aparser.parse_args())\n",
    "\n",
    "    f = open(args['input'], 'r')\n",
    "    input_stream = f.read()\n",
    "    f.close()\n",
    "\n",
    "    # execute interpreter\n",
    "    interp(input_stream=input_stream)\n",
    "```"
   ]
  },
  {
   "cell_type": "markdown",
   "metadata": {},
   "source": [
    "Once `interp` has an input stream it initializes the state object, builds the AST for the input stream, and then walks the AST.  Let's try this on some programs."
   ]
  },
  {
   "cell_type": "code",
   "execution_count": 77,
   "metadata": {
    "collapsed": true
   },
   "outputs": [],
   "source": [
    "from cuppa1_interp import interp"
   ]
  },
  {
   "cell_type": "code",
   "execution_count": 49,
   "metadata": {},
   "outputs": [
    {
     "name": "stdout",
     "output_type": "stream",
     "text": [
      "Value for x? 3\n",
      "> 4\n"
     ]
    }
   ],
   "source": [
    "interp(\"get x; x = x + 1; put x\")"
   ]
  },
  {
   "cell_type": "code",
   "execution_count": 50,
   "metadata": {
    "collapsed": true
   },
   "outputs": [],
   "source": [
    "from cuppa1_examples import *"
   ]
  },
  {
   "cell_type": "code",
   "execution_count": 51,
   "metadata": {},
   "outputs": [
    {
     "name": "stdout",
     "output_type": "stream",
     "text": [
      "\n",
      "// list of integers\n",
      "get x\n",
      "while (1 <= x) \n",
      "{\n",
      "    put x;\n",
      "    x = x + - 1;\n",
      "    i = x\n",
      "}\n",
      "\n"
     ]
    }
   ],
   "source": [
    "print(list)"
   ]
  },
  {
   "cell_type": "code",
   "execution_count": 52,
   "metadata": {},
   "outputs": [
    {
     "name": "stdout",
     "output_type": "stream",
     "text": [
      "Value for x? 5\n",
      "> 5\n",
      "> 4\n",
      "> 3\n",
      "> 2\n",
      "> 1\n"
     ]
    }
   ],
   "source": [
    "interp(list)"
   ]
  },
  {
   "cell_type": "code",
   "execution_count": 53,
   "metadata": {},
   "outputs": [
    {
     "name": "stdout",
     "output_type": "stream",
     "text": [
      "\n",
      "get x;\n",
      "y = 1;\n",
      "while (1 <= x)\n",
      "{\n",
      "      y = y * x;\n",
      "      x = x - 1;\n",
      "}\n",
      "put y;\n",
      "\n"
     ]
    }
   ],
   "source": [
    "print(fact)"
   ]
  },
  {
   "cell_type": "code",
   "execution_count": 54,
   "metadata": {},
   "outputs": [
    {
     "name": "stdout",
     "output_type": "stream",
     "text": [
      "Value for x? 3\n",
      "> 6\n"
     ]
    }
   ],
   "source": [
    "interp(fact)"
   ]
  },
  {
   "cell_type": "code",
   "execution_count": 55,
   "metadata": {},
   "outputs": [
    {
     "name": "stdout",
     "output_type": "stream",
     "text": [
      "\n",
      "// logical not in Cuppa1\n",
      "get x\n",
      "if (x == 0)\n",
      "   put 1\n",
      "else \n",
      "  put 0\n",
      "\n"
     ]
    }
   ],
   "source": [
    "print(ifex)"
   ]
  },
  {
   "cell_type": "code",
   "execution_count": 56,
   "metadata": {},
   "outputs": [
    {
     "name": "stdout",
     "output_type": "stream",
     "text": [
      "Value for x? 1\n",
      "> 0\n"
     ]
    }
   ],
   "source": [
    "interp(ifex)"
   ]
  },
  {
   "cell_type": "code",
   "execution_count": 57,
   "metadata": {},
   "outputs": [
    {
     "name": "stdout",
     "output_type": "stream",
     "text": [
      "\n",
      "// logical and in Cuppa1 can be simulated with multiplication\n",
      "x = 0\n",
      "y = 0\n",
      "put x\n",
      "put y\n",
      "put x * y\n",
      "\n",
      "x = 1\n",
      "y = 0\n",
      "put x\n",
      "put y\n",
      "put x * y\n",
      "\n",
      "x = 0\n",
      "y = 1\n",
      "put x\n",
      "put y\n",
      "put x * y\n",
      "\n",
      "x = 1\n",
      "y = 1\n",
      "put x\n",
      "put y\n",
      "put x * y\n",
      "\n"
     ]
    }
   ],
   "source": [
    "print(logical_and)"
   ]
  },
  {
   "cell_type": "code",
   "execution_count": 58,
   "metadata": {},
   "outputs": [
    {
     "name": "stdout",
     "output_type": "stream",
     "text": [
      "> 0\n",
      "> 0\n",
      "> 0\n",
      "> 1\n",
      "> 0\n",
      "> 0\n",
      "> 0\n",
      "> 1\n",
      "> 0\n",
      "> 1\n",
      "> 1\n",
      "> 1\n"
     ]
    }
   ],
   "source": [
    "interp(logical_and)"
   ]
  },
  {
   "cell_type": "code",
   "execution_count": 59,
   "metadata": {},
   "outputs": [
    {
     "name": "stdout",
     "output_type": "stream",
     "text": [
      "\n",
      "// logical or in Cuppa1 can be simulated with addition\n",
      "x = 0\n",
      "y = 0\n",
      "put x\n",
      "put y\n",
      "put x + y\n",
      "\n",
      "x = 1\n",
      "y = 0\n",
      "put x\n",
      "put y\n",
      "put x + y\n",
      "\n",
      "x = 0\n",
      "y = 1\n",
      "put x\n",
      "put y\n",
      "put x + y\n",
      "\n",
      "x = 1\n",
      "y = 1\n",
      "put x\n",
      "put y\n",
      "put not not (x + y) // make it look like '1'\n",
      "\n"
     ]
    }
   ],
   "source": [
    "print(logical_or)"
   ]
  },
  {
   "cell_type": "code",
   "execution_count": 60,
   "metadata": {},
   "outputs": [
    {
     "name": "stdout",
     "output_type": "stream",
     "text": [
      "> 0\n",
      "> 0\n",
      "> 0\n",
      "> 1\n",
      "> 0\n",
      "> 1\n",
      "> 0\n",
      "> 1\n",
      "> 1\n",
      "> 1\n",
      "> 1\n",
      "> 1\n"
     ]
    }
   ],
   "source": [
    "interp(logical_or)"
   ]
  },
  {
   "cell_type": "markdown",
   "metadata": {},
   "source": [
    "# A Cuppa1 Pretty Printer with a Twist"
   ]
  },
  {
   "cell_type": "markdown",
   "metadata": {
    "collapsed": true
   },
   "source": [
    "We can apply tree walking techniques to a Cuppa1 pretty printer.  But this time it's a pretty printer with a twist, \n",
    "\n",
    "> The pretty printer will output a pretty printed version of a Cuppa1 input program and it will flag assignment/get statements to variables which are not used in the program!\n",
    "\n",
    "For example, the Cuppa1 program that prints out a list of integers,\n",
    "```\n",
    "get x; while (1 <= x) { put x; x = x + - 1; i = x }\n",
    "```\n",
    "will be pretty printed as,\n",
    "```\n",
    "get x\n",
    "while (1 <= x)\n",
    "{\n",
    "   put x\n",
    "   x = x + -1\n",
    "   i = x // *** i is not used ***\n",
    "}\n",
    "```\n",
    "with `i` flagged as not being used in the program.  Just notice that this is not possible to do in a syntax-directed manner: usage points are almost always non-local to definition points"
   ]
  },
  {
   "cell_type": "markdown",
   "metadata": {},
   "source": [
    "## Architecture of the Cuppa1 Pretty Printer"
   ]
  },
  {
   "cell_type": "markdown",
   "metadata": {},
   "source": [
    "The architecture of our pretty printer consists of our Cuppa1 frontend and two tree walkers.  One tree walker to look for variable usage points in expressions that marks the symbol table appropriately.  The other tree walker uses the AST to generate pretty printed code.  Figure 6 illustrates that architecture.  Our Cuppa1 frontend buils the AST and the two tree walkers process the AST."
   ]
  },
  {
   "cell_type": "markdown",
   "metadata": {},
   "source": [
    "![alt](figures/chap05/6/figure/Slide1.jpg)\n",
    "<p style=\"text-align: center;\">\n",
    "Fig 6. The architecture of the Cuppa1 pretty printer with a twist.\n",
    "</p>\n"
   ]
  },
  {
   "cell_type": "markdown",
   "metadata": {},
   "source": [
    "### The First Pass Walker"
   ]
  },
  {
   "cell_type": "markdown",
   "metadata": {},
   "source": [
    "The first pass of the pretty printer walks the AST and looks for variables in expressions because only those count as usage points.  A peek at the [tree walker for the first pass](code/cuppa1_pp1_walk.py)  shows that it literally just walks the tree doing nothing until it finds a variable in an expression.  If it finds a variable in an expression then the node function for `ID` marks the variable in the symbol table as used,"
   ]
  },
  {
   "cell_type": "code",
   "execution_count": 61,
   "metadata": {
    "collapsed": true
   },
   "outputs": [],
   "source": [
    "# %load -s id_exp code/cuppa1_pp1_walk.py\n",
    "def id_exp(node):\n",
    "    \n",
    "    (ID, name) = node\n",
    "    assert_match(ID, 'id')\n",
    "    \n",
    "    # we found a use scenario of a variable, if the variable is defined\n",
    "    # set it to true\n",
    "    if name in state.symbol_table:\n",
    "        state.symbol_table[name] = True\n"
   ]
  },
  {
   "cell_type": "markdown",
   "metadata": {},
   "source": [
    "Recall that when the frontend finds a definition of a variable, that is, either an assignment or a get statement for a particular variable it enters it into the symbol table and initializes it with `None`,"
   ]
  },
  {
   "cell_type": "markdown",
   "metadata": {},
   "source": [
    "```Python\n",
    "# %load -s p_stmt code/cuppa1_frontend_gram.py\n",
    "def p_stmt(p):\n",
    "    '''\n",
    "    stmt : ID '=' exp opt_semi\n",
    "         | GET ID opt_semi\n",
    "         | PUT exp opt_semi\n",
    "         | WHILE '(' exp ')' stmt\n",
    "         | IF '(' exp ')' stmt opt_else\n",
    "         | '{' stmt_list '}'\n",
    "    '''\n",
    "    if p[2] == '=':\n",
    "        p[0] = ('assign', p[1], p[3])\n",
    "        state.symbol_table[p[1]] = None\n",
    "    elif p[1] == 'get':\n",
    "        p[0] = ('get', p[2])\n",
    "        state.symbol_table[p[2]] = None\n",
    "    ...\n",
    "```"
   ]
  },
  {
   "cell_type": "markdown",
   "metadata": {},
   "source": [
    "We can test our walker,"
   ]
  },
  {
   "cell_type": "code",
   "execution_count": 62,
   "metadata": {},
   "outputs": [],
   "source": [
    "from cuppa1_frontend_gram import parser\n",
    "from cuppa1_lex import lexer\n",
    "from cuppa1_pp1_walk import walk as pp1_walk\n",
    "from cuppa1_state import state"
   ]
  },
  {
   "cell_type": "code",
   "execution_count": 63,
   "metadata": {
    "collapsed": true
   },
   "outputs": [],
   "source": [
    "state.initialize()"
   ]
  },
  {
   "cell_type": "code",
   "execution_count": 64,
   "metadata": {
    "collapsed": true
   },
   "outputs": [],
   "source": [
    "parser.parse(\"get x\", lexer=lexer)"
   ]
  },
  {
   "cell_type": "code",
   "execution_count": 65,
   "metadata": {
    "collapsed": true
   },
   "outputs": [],
   "source": [
    "pp1_walk(state.AST)"
   ]
  },
  {
   "cell_type": "code",
   "execution_count": 66,
   "metadata": {},
   "outputs": [
    {
     "data": {
      "text/plain": [
       "{'x': None}"
      ]
     },
     "execution_count": 66,
     "metadata": {},
     "output_type": "execute_result"
    }
   ],
   "source": [
    "state.symbol_table"
   ]
  },
  {
   "cell_type": "markdown",
   "metadata": {},
   "source": [
    "So, our small program defines `x` but never uses it according to our symbol table.  Let's try this again with a slightly more complicated program,"
   ]
  },
  {
   "cell_type": "code",
   "execution_count": 67,
   "metadata": {
    "collapsed": true
   },
   "outputs": [],
   "source": [
    "state.initialize()"
   ]
  },
  {
   "cell_type": "code",
   "execution_count": 68,
   "metadata": {
    "collapsed": true
   },
   "outputs": [],
   "source": [
    "parser.parse(\"get x; put x\", lexer=lexer)"
   ]
  },
  {
   "cell_type": "code",
   "execution_count": 69,
   "metadata": {
    "collapsed": true
   },
   "outputs": [],
   "source": [
    "pp1_walk(state.AST)"
   ]
  },
  {
   "cell_type": "code",
   "execution_count": 70,
   "metadata": {},
   "outputs": [
    {
     "data": {
      "text/plain": [
       "{'x': True}"
      ]
     },
     "execution_count": 70,
     "metadata": {},
     "output_type": "execute_result"
    }
   ],
   "source": [
    "state.symbol_table"
   ]
  },
  {
   "cell_type": "markdown",
   "metadata": {},
   "source": [
    "Good, our symbol table shows the fact that `x` was defined and used in the program."
   ]
  },
  {
   "cell_type": "markdown",
   "metadata": {},
   "source": [
    "### The Second Pass Walker"
   ]
  },
  {
   "cell_type": "markdown",
   "metadata": {},
   "source": [
    "The tree walker for the second pass walks the AST and compiles a formatted string that represents the pretty printed program.  This is not unlike the pretty printer for Exp1 which we looked at in Chapter 3.  The difference of course is that here we are not doing this in a syntax-directed manner but by tree walking but we are still generating a formatted string.\n",
    "\n",
    "For example, walking the `seq` node generates a string put together by the string generated for the statement in the `seq` node and the the string from the rest of the program,"
   ]
  },
  {
   "cell_type": "code",
   "execution_count": 71,
   "metadata": {
    "collapsed": true
   },
   "outputs": [],
   "source": [
    "# %load -s seq code/cuppa1_pp2_walk.py\n",
    "def seq(node):\n",
    "\n",
    "    (SEQ, s1, s2) = node\n",
    "    assert_match(SEQ, 'seq')\n",
    "    \n",
    "    stmt = walk(s1)\n",
    "    list = walk(s2)\n",
    "\n",
    "    return stmt + list\n"
   ]
  },
  {
   "cell_type": "markdown",
   "metadata": {},
   "source": [
    "A look at the node function for the `while` node is also interesting,"
   ]
  },
  {
   "cell_type": "code",
   "execution_count": 72,
   "metadata": {
    "collapsed": true
   },
   "outputs": [],
   "source": [
    "# %load -s while_stmt code/cuppa1_pp2_walk.py\n",
    "def while_stmt(node):\n",
    "    global indent_level\n",
    "    \n",
    "    (WHILE, cond, body) = node\n",
    "    assert_match(WHILE, 'while')\n",
    "    \n",
    "    cond_code = walk(cond)\n",
    "\n",
    "    indent_level += 1\n",
    "    body_code = walk(body)\n",
    "    indent_level -= 1\n",
    "\n",
    "    code = indent() + 'while (' + cond_code + ')\\n' + body_code\n",
    "\n",
    "    return code\n"
   ]
  },
  {
   "cell_type": "markdown",
   "metadata": {},
   "source": [
    "Here we generate code for the condition and the body and then generate the code for the whole `while`.  Notice that we keep careful track of the indentation level so that the output code looks nice.  Now, let's see what happens at the variable definitions, that is the assignment and get statement nodes,"
   ]
  },
  {
   "cell_type": "code",
   "execution_count": 73,
   "metadata": {
    "collapsed": true
   },
   "outputs": [],
   "source": [
    "# %load -s assign_stmt,get_stmt code/cuppa1_pp2_walk.py\n",
    "def assign_stmt(node):\n",
    "\n",
    "    (ASSIGN, name, exp) = node\n",
    "    assert_match(ASSIGN, 'assign')\n",
    "    \n",
    "    exp_code = walk(exp)\n",
    "\n",
    "    code = indent() + name + ' = ' + exp_code\n",
    "    \n",
    "    if not state.symbol_table[name]:\n",
    "        code += ' // *** '+ name + ' is not used ***'\n",
    "\n",
    "    code += '\\n'\n",
    "    return code\n",
    "\n",
    "#########################################################################\n",
    "\n",
    "def get_stmt(node):\n",
    "\n",
    "    (GET, name) = node\n",
    "    assert_match(GET, 'get')\n",
    "\n",
    "    code = indent() + 'get ' + name\n",
    "    \n",
    "    if not state.symbol_table[name]:\n",
    "        code += ' // '+ name + ' is not used'\n",
    "\n",
    "    code += '\\n'\n",
    "    return code\n"
   ]
  },
  {
   "cell_type": "markdown",
   "metadata": {},
   "source": [
    "Here we generate code for both types of nodes as you would expect.  However, the twist is that we insert a comment about the variable not being used if the symbol table entry for the variable being defined by either an assignment or get statement is still set to `None`.  A value of `None` for the variable being defined indicates that the walker for the first pass did not find a usage point for this variable."
   ]
  },
  {
   "cell_type": "markdown",
   "metadata": {},
   "source": [
    "The full implementation of [phase 1](code/cuppa1_pp1_walk.py) and [phase 2](code/cuppa1_pp2_walk.py) of the tree walker."
   ]
  },
  {
   "cell_type": "markdown",
   "metadata": {},
   "source": [
    "## Testing the Pretty Printer"
   ]
  },
  {
   "cell_type": "markdown",
   "metadata": {},
   "source": [
    "To make testing easier we provide a function that ties the frontend, the first pass, and the second pass together."
   ]
  },
  {
   "cell_type": "code",
   "execution_count": 74,
   "metadata": {},
   "outputs": [
    {
     "name": "stdout",
     "output_type": "stream",
     "text": [
      "\n"
     ]
    }
   ],
   "source": [
    "# %load code/cuppa1_pp.py\n",
    "#!/usr/bin/env python\n",
    "# Cuppa1 pretty printer\n",
    "\n",
    "from sys import stdin\n",
    "from cuppa1_frontend_gram import parser\n",
    "from cuppa1_lex import lexer\n",
    "from cuppa1_state import state\n",
    "from cuppa1_pp1_walk import walk as pp1_walk\n",
    "from cuppa1_pp2_walk import walk as pp2_walk\n",
    "from cuppa1_pp2_walk import init_indent_level\n",
    "\n",
    "def pp(input_stream = None):\n",
    "\n",
    "    # if no input stream was given read from stdin\n",
    "    if not input_stream:\n",
    "        input_stream = stdin.read()\n",
    "\n",
    "    # initialize the state object and indent level\n",
    "    state.initialize()\n",
    "    init_indent_level()\n",
    "\n",
    "    # build the AST\n",
    "    parser.parse(input_stream, lexer=lexer)\n",
    "\n",
    "    # walk the AST\n",
    "    pp1_walk(state.AST)\n",
    "    code = pp2_walk(state.AST)\n",
    "\n",
    "    # output the pretty printed code\n",
    "    print(code)\n",
    "\n",
    "if __name__ == \"__main__\":\n",
    "    # execute only if run as a script\n",
    "    pp()\n"
   ]
  },
  {
   "cell_type": "markdown",
   "metadata": {},
   "source": [
    "Let's try it on the example that we started this section with,"
   ]
  },
  {
   "cell_type": "code",
   "execution_count": 79,
   "metadata": {},
   "outputs": [],
   "source": [
    "from cuppa1_pp import pp"
   ]
  },
  {
   "cell_type": "code",
   "execution_count": 80,
   "metadata": {},
   "outputs": [
    {
     "name": "stdout",
     "output_type": "stream",
     "text": [
      "get x\n",
      "while (1 <= x)\n",
      "{\n",
      "   put x\n",
      "   x = x + -1\n",
      "   i = x // *** i is not used ***\n",
      "}\n",
      "\n"
     ]
    }
   ],
   "source": [
    "pp(\"get x; while (1 <= x) { put x; x = x + - 1; i = x }\")"
   ]
  },
  {
   "cell_type": "markdown",
   "metadata": {},
   "source": [
    "So it works as expected.  However, our simple scheme of finding variable definition points messes up in some cases. Consider,"
   ]
  },
  {
   "cell_type": "code",
   "execution_count": 76,
   "metadata": {},
   "outputs": [
    {
     "name": "stdout",
     "output_type": "stream",
     "text": [
      "y = x\n",
      "get x\n",
      "put y\n",
      "\n"
     ]
    }
   ],
   "source": [
    "funny = \\\n",
    "'''\n",
    "y = x\n",
    "get x\n",
    "put y\n",
    "'''\n",
    "\n",
    "pp(funny)"
   ]
  },
  {
   "cell_type": "markdown",
   "metadata": {},
   "source": [
    "Here the `get x` statement should have been flagged because that value of `x` is never used.  But because we are not careful in remembering the order in which definitions and usage of variables occur in our pretty printer it doesn't flag it. "
   ]
  },
  {
   "cell_type": "markdown",
   "metadata": {},
   "source": [
    "# Summary"
   ]
  },
  {
   "cell_type": "markdown",
   "metadata": {},
   "source": [
    "We started the chapter with a discussion of abstract syntax trees (ASTs) as an IR which is well suited for more complex languages. We show that this intermediate representation can be directly derived from the grammar or more precisely from the parse trees a grammar generates.  We used these ideas to construct an interpreter for our first high-level language Cuppa1.  We used tree walking as a technique to interpret the AST generated by the frontend.  The frontend is the part of a language processor that generates the AST and usually fills out the symbol table with some basic information about the symbols/variables it encounters while processing the input program.  We looked at the architecture of tree walkers in some detail.  These usually reflect the recursive nature of the ASTs.  The basic components of a tree walker is a dispatcher and a set of node functions; one for each type of node that can appear in the AST.   We finished the chapter by designing a tree walker for a pretty printer with twist for our Cuppa1 language.  This pretty printer flagged unused but defined variables in the generated output program."
   ]
  },
  {
   "cell_type": "markdown",
   "metadata": {},
   "source": [
    "# Notes"
   ]
  },
  {
   "cell_type": "markdown",
   "metadata": {},
   "source": [
    "A nice overview of abstract syntax tree design appears in (Jones, 2003).  In (Wang *et al*, 1997) the abstract syntax is described in terms of a abstract syntax description language which is well suited for large scale language implementation projects.  A paper that discusses the relationship between abstract and concrete syntax is (Wile, 1997).  Wikipedia has nice articles on [abstract syntax trees](https://en.wikipedia.org/wiki/Abstract_syntax_tree) and\n",
    "[tree walking (traversal)](https://en.wikipedia.org/wiki/Tree_traversal).\n",
    "\n",
    "\n",
    "Jones, J. (2003, September). [*Abstract syntax tree implementation idioms*](http://www.hillside.net/plop/plop2003/Papers/Jones-ImplementingASTs.pdf). In Proceedings of the 10th conference on pattern languages of programs (plop2003) (p. 26).\n",
    "\n",
    "Wang, D. C., Appel, A. W., Korn, J. L., & Serra, C. S. (1997, October). [*The Zephyr Abstract Syntax Description Language*](https://www.usenix.org/legacy/publications/library/proceedings/dsl97/full_papers/wang/wang.pdf). In DSL (Vol. 97, pp. 17-17).\n",
    "\n",
    "Wile, D. S. (1997, May). [*Abstract syntax from concrete syntax*](https://pdfs.semanticscholar.org/7bdf/f33b709824c0745d995fc922840e05cd151d.pdf). In Proceedings of the 19th international conference on Software engineering (pp. 472-480). ACM."
   ]
  },
  {
   "cell_type": "markdown",
   "metadata": {},
   "source": [
    "# Exercises"
   ]
  },
  {
   "cell_type": "markdown",
   "metadata": {},
   "source": [
    "1. Extend the Cuppa1 frontend with the proper logical operators `and` and `or`, then\n",
    "  a. implement them in the Cuppa1 interpreter\n",
    "  b. implement them in the Cuppa1 pretty printer\n",
    " \n",
    "1. Extend the Cuppa1 frontend to allow for user defined strings in `put` and `get`.  For example, \n",
    "   ```\n",
    "   get \"Please enter the radius: \" r\n",
    "   ```\n",
    "   and \n",
    "   ```\n",
    "   put \"The value of x is: \" x\n",
    "   ```\n",
    "   Implement this in the Cuppa1 interpreter.\n",
    "\n",
    "1. Extend the Cuppa1 pretty printer so that it prints out a message for variables that are being used before being defined.  Here *defined* means a variable that has been assigned a value through either an assignment or get statement.  For example, in the program,\n",
    "   ```\n",
    "   i = x\n",
    "   put i\n",
    "   ```\n",
    "   the pretty printer should flag the variable `x` as being used before being defined.\n",
    "\n",
    "1. Refine the Cuppa1 pretty printer so that variables that are in programs such as,\n",
    "   ```\n",
    "   y = x\n",
    "   get x\n",
    "   put y\n",
    "   ```\n",
    "   are properly flagged.  Here the variable `x` on the second line should be flagged as not used because it is being set but then not used in the remainder of the program.\n",
    "   \n",
    "1. Given the [lexer](code/ubasic_lex.py) and the [parser specification](code/ubasic_gram.py) for uBasic (micro-Basic) in the [code](code) folder develop an interpreter for this language.\n",
    "\n",
    "\n",
    "\n"
   ]
  },
  {
   "cell_type": "code",
   "execution_count": null,
   "metadata": {
    "collapsed": true
   },
   "outputs": [],
   "source": []
  }
 ],
 "metadata": {
  "kernelspec": {
   "display_name": "Python 3",
   "language": "python",
   "name": "python3"
  },
  "language_info": {
   "codemirror_mode": {
    "name": "ipython",
    "version": 3
   },
   "file_extension": ".py",
   "mimetype": "text/x-python",
   "name": "python",
   "nbconvert_exporter": "python",
   "pygments_lexer": "ipython3",
   "version": "3.7.6"
  }
 },
 "nbformat": 4,
 "nbformat_minor": 2
}
