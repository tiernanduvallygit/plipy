{
 "cells": [
  {
   "cell_type": "markdown",
   "metadata": {},
   "source": [
    "# A little Procrastination goes a Long Way: Program Analysis with Intermediate Representations"
   ]
  },
  {
   "cell_type": "markdown",
   "metadata": {},
   "source": [
    "\n",
    "<!-- TODO: incorporate the new grammar (input) into the chapter -->\n",
    "<!-- TODO: incorporate 'not' operator into the chapter -->\n",
    "\n",
    "<!--\n",
    "\\index{intermediate representation}\n",
    "\\index{IR}\n",
    "\\index{bytecode interpreter}\n",
    "\\index{virtual machine}\n",
    "-->\n",
    "\n",
    "In this chapter we show that the simple, syntax directed scheme of processing programming\n",
    "languages shown in Chapter 2 is not powerful enough to handle certain\n",
    "programming constructs such as the `goto` statement or the `jump to label` instruction for instance.  We show that such programming\n",
    "constructs can be processed by first constructing an intermediate representation (IR) of the program\n",
    "and then use this IR during the actual processing of the program.  We illustrate these ideas by constructing an\n",
    "IR for a simple bytecode language (virtual machine).  \n",
    "\n",
    "\n",
    "<!--\n",
    "We continue our discussion with the fact that the *ad hoc* IR design\n",
    "we used for the bytecode interpreter has its limitations when designing processors for more complex\n",
    "languages.  We then introduce the idea of the Abstract Syntax Tree (AST) as an intermediate representation\n",
    "and show that this intermediate representation can be directly derived from the grammar itself giving us\n",
    "a more principled way of constructing intermediate representations.\n",
    "We illustrate these ideas with a pretty printer program for a simple high-level language.\n",
    "-->\n"
   ]
  },
  {
   "cell_type": "code",
   "execution_count": 1,
   "metadata": {
    "collapsed": true
   },
   "outputs": [],
   "source": [
    "# let the notebook access the code folder\n",
    "import sys\n",
    "sys.path.insert(1,\"code\")"
   ]
  },
  {
   "cell_type": "markdown",
   "metadata": {},
   "source": [
    "# Limits of Syntax-Directed Processing"
   ]
  },
  {
   "cell_type": "markdown",
   "metadata": {},
   "source": [
    "In Chapter 3 we introduced syntax directed interpretation as a way to add semantics to programming\n",
    "languages.\n",
    "However, this scheme fails when some language construct needs access to information that is not directly computable based on the local syntactic structures.\n",
    "Classic examples of this is the `goto` statement in C and the `jump to label`  machine code instruction.\n",
    "In order to examine this a little bit closer we extend our Exp1 language with conditional and unconditional jump instructions\n",
    "and call the new language Exp1bytecode."
   ]
  },
  {
   "cell_type": "markdown",
   "metadata": {},
   "source": [
    "## Introducing the Exp1bytecode Language"
   ]
  },
  {
   "cell_type": "markdown",
   "metadata": {},
   "source": [
    "The Exp1bytecode language is based on our Exp1 language but introduces five new statements we now call instructions (the reasons will become obvious when we look at the interpreter for this language): \n",
    "\n",
    "* `noop` - an instruction that does nothing.\n",
    "* `stop` - an instruction that halts the execution.\n",
    "* `jumpT exp label` - an instruction that evaluates `exp` and then jumps to the `label` if the expression evaluates to true.\n",
    "* `jumpF exp label` - an instruction that evaluates `exp` and then jumps to the `label` if the expression evaluates to false.\n",
    "* `jump label` - an unconditional jump to the `label`.\n",
    "\n",
    "Recall that in Exp1 expressions are based on integer values.\n",
    "Therefore, in order to compute the truth values necessary for the conditional jump instructions we adopt the following convention: an expression value of zero represents the boolean value false and a non-zero expression value represents the boolean value true.\n",
    "\n",
    "Our Exp1bytecode language also introduces the idea of labeled instructions as targets for jump statements.\n",
    "Labels are names followed by a colon that precede an instruction.\n",
    "For example,\n",
    "```\n",
    "      store x 5;\n",
    "L1:   store x (- x 1);\n",
    "      jumpT x L1;\n",
    "```\n",
    "This program loops while `x` is non-zero.\n",
    "\n",
    "<!--\n",
    "\\index{relational operator}\n",
    "-->\n",
    "\n",
    "In order to write some interesting programs in this new language we also introduce two new operators:\n",
    "\n",
    "* `=` - the equality relational operator.\n",
    "* `=<` - the less-equal relational operator. \n",
    "\n",
    "Both operators return zero for the boolean value false and one for the boolean value true."
   ]
  },
  {
   "cell_type": "markdown",
   "metadata": {},
   "source": [
    "## The Exp1bytecode Grammar"
   ]
  },
  {
   "cell_type": "markdown",
   "metadata": {},
   "source": [
    "The grammar for our Exp1bytecode language,"
   ]
  },
  {
   "cell_type": "markdown",
   "metadata": {},
   "source": [
    "```Python\n",
    "# %load code/exp1bytecode_gram.py\n",
    "from ply import yacc\n",
    "from exp1bytecode_lex import tokens, lexer\n",
    "\n",
    "def p_grammar(_):\n",
    "    '''\n",
    "    prog : instr_list\n",
    "\n",
    "    instr_list : labeled_instr instr_list\n",
    "               | empty\n",
    "\n",
    "    labeled_instr : label_def instr\n",
    "\n",
    "    label_def : NAME ':' \n",
    "              | empty\n",
    "\n",
    "    instr : PRINT exp ';'\n",
    "          | STORE NAME exp ';'\n",
    "          | JUMPT exp label ';'\n",
    "          | JUMPF exp label ';'\n",
    "          | JUMP label ';'\n",
    "          | STOP ';'\n",
    "          | NOOP ';'\n",
    "\n",
    "    exp : '+' exp exp\n",
    "        | '-' exp exp\n",
    "        | '-' exp\n",
    "        | '*' exp exp\n",
    "        | '/' exp exp\n",
    "        | EQ exp exp\n",
    "        | LE exp exp\n",
    "        | '(' exp ')'\n",
    "        | var\n",
    "        | NUMBER\n",
    "        \n",
    "    label : NAME\n",
    "    var : NAME\n",
    "    '''\n",
    "    pass\n",
    "\n",
    "def p_empty(p):\n",
    "    'empty :'\n",
    "    pass\n",
    "\n",
    "def p_error(t):\n",
    "    print(\"Syntax error at '%s'\" % t.value)\n",
    "\n",
    "parser = yacc.yacc()\n",
    "```"
   ]
  },
  {
   "cell_type": "markdown",
   "metadata": {},
   "source": [
    "You can still clearly see the Exp1 lineage shining through.  However, our original lists of statements in Exp1 are now lists of labeled instructions where a label definition is a name followed by a colon.  Instructions now include jump instructions as well as the `noop` and `stop`instuctions.\n",
    "We have also enriched expressions to include all the standard arithmetic operators including the unary minus.\n",
    "The unary minus introduces shift/reduce conflicts into our parser because the unary minus expression, `'-' exp`, is a prefix to the binary subtraction expression `'-' exp exp`.  However, the standard conflict resolution of LR parsers for shift/reduce conflicts is to always shift when possible.  This behavior is exactly what we want so we can just leave it the way it is."
   ]
  },
  {
   "cell_type": "markdown",
   "metadata": {},
   "source": [
    "## The Lexer for Exp1bytecode"
   ]
  },
  {
   "cell_type": "markdown",
   "metadata": {},
   "source": [
    "The corresponding lexical analyzer for Exp1bytecode,"
   ]
  },
  {
   "cell_type": "markdown",
   "metadata": {},
   "source": [
    "```Python\n",
    "# %load code/exp1bytecode_lex.py\n",
    "# Lexer for Exp1bytecode\n",
    "\n",
    "from ply import lex\n",
    "\n",
    "reserved = {\n",
    "    'store' : 'STORE',\n",
    "    'print' : 'PRINT',\n",
    "    'jumpT' : 'JUMPT',\n",
    "    'jumpF' : 'JUMPF',\n",
    "    'jump'  : 'JUMP',\n",
    "    'stop'  : 'STOP',\n",
    "    'noop'  : 'NOOP'\n",
    "}\n",
    "\n",
    "literals = [':',';','+','-','*','/','(',')']\n",
    "\n",
    "tokens = ['NAME','NUMBER','EQ','LE'] + list(reserved.values())\n",
    "\n",
    "t_EQ = '='\n",
    "t_LE = '=<'\n",
    "t_ignore = ' \\t'\n",
    "\n",
    "def t_NAME(t):\n",
    "    r'[a-zA-Z_][a-zA-Z_0-9]*'\n",
    "    t.type = reserved.get(t.value,'NAME')    # Check for reserved words\n",
    "    return t\n",
    "\n",
    "def t_NUMBER(t):\n",
    "    r'[0-9]+'\n",
    "    t.value = int(t.value)\n",
    "    return t\n",
    "\n",
    "def t_NEWLINE(t):\n",
    "    r'\\n'\n",
    "    pass\n",
    "\n",
    "def t_COMMENT(t):\n",
    "    r'\\#.*'\n",
    "    pass\n",
    "    \n",
    "def t_error(t):\n",
    "    print(\"Illegal character %s\" % t.value[0])\n",
    "    t.lexer.skip(1)\n",
    "\n",
    "# build the lexer\n",
    "lexer = lex.lex()\n",
    "```"
   ]
  },
  {
   "cell_type": "markdown",
   "metadata": {},
   "source": [
    "There should be no real surprises in this definition. The obvious change are the additional keywords.  The other real change is that we added comments to our language in the form of `#` comments.  As usual with these kinds of comments once you start a comment it spans the rest of the line. The regular expression for this is `\\#.*` - match zero or more character after the hash symbol not including the newline character."
   ]
  },
  {
   "cell_type": "markdown",
   "metadata": {},
   "source": [
    "## Testing our Exp1bytecode Parser"
   ]
  },
  {
   "cell_type": "markdown",
   "metadata": {},
   "source": [
    "Let's exercise this parser."
   ]
  },
  {
   "cell_type": "code",
   "execution_count": 2,
   "metadata": {},
   "outputs": [],
   "source": [
    "from exp1bytecode_gram import parser"
   ]
  },
  {
   "cell_type": "markdown",
   "metadata": {},
   "source": [
    "As input program we will use our example program from above that decrements `x` until `x` is zero."
   ]
  },
  {
   "cell_type": "code",
   "execution_count": 3,
   "metadata": {
    "collapsed": true
   },
   "outputs": [],
   "source": [
    "input_stream = \\\n",
    "'''\n",
    "      store x 5;\n",
    "L1:   store x (- x 1);\n",
    "      jumpT x L1;\n",
    "\n",
    "'''"
   ]
  },
  {
   "cell_type": "code",
   "execution_count": 4,
   "metadata": {},
   "outputs": [],
   "source": [
    "parser.parse(input_stream)"
   ]
  },
  {
   "cell_type": "markdown",
   "metadata": {},
   "source": [
    "Good! No syntax or other errors were reported.  That means our parser works."
   ]
  },
  {
   "cell_type": "markdown",
   "metadata": {},
   "source": [
    "## Trying our Hand at Syntax Directed Processing..."
   ]
  },
  {
   "cell_type": "markdown",
   "metadata": {},
   "source": [
    "<!--\n",
    "\\index{label!definition}\n",
    "\\index{label!reference}\n",
    "-->\n",
    "\n",
    "Now, back to our problem at hand: the syntax directed interpretation of this language.\n",
    "As long as we are dealing with expressions in Exp1bytecode things are fine.\n",
    "We could easily envision providing syntax directed interpretation for expression similar to what we\n",
    "did in Exp1,\n",
    "```Python\n",
    "   ...\n",
    "\n",
    "def p_plus_exp(p):\n",
    "    \"\"\"\n",
    "    exp : '+' exp exp\n",
    "    \"\"\"\n",
    "    p[0] = p[2] + p[3]\n",
    "\n",
    "def p_minus_exp(p):\n",
    "    \"\"\"\n",
    "    exp : '-' exp exp\n",
    "    \"\"\"\n",
    "    p[0] = p[2] - p[3]\n",
    "\n",
    "def p_paren_exp(p):\n",
    "    \"\"\"\n",
    "    exp : '(' exp ')'\n",
    "    \"\"\"\n",
    "    p[0] = p[2]\n",
    "\n",
    "def p_var_exp(p):\n",
    "    \"exp : var\"\n",
    "    p[0] = p[1]\n",
    "    \n",
    "def p_num_exp(p):\n",
    "    \"exp : num\"\n",
    "    p[0] = p[1]\n",
    "\n",
    "   ...\n",
    "```\n",
    "All information is available at the point when we recognize a syntactic structure and we are able to evaluate the embedded rules.\n",
    "The same is true for the `print` and `store` instructions.  All the information required to interpret these instructions\n",
    "is availble at the time when their syntax is recognized by the parser.\n",
    "```Python\n",
    "def p_print_instr(p):\n",
    "    \"instr : PRINT exp ';'\"\n",
    "    print(\"> {}\".format(p[2]))\n",
    "    \n",
    "def p_store_instr(p):\n",
    "    \"instr : STORE NAME exp ';'\"\n",
    "    symbol_table[p[2]] = p[3]\n",
    "```\n",
    "This is of course not surprising, because these syntactic structures of Exp1bytecode are part of our Exp1 language and we have shown that we can use syntax directed processing for that language."
   ]
  },
  {
   "cell_type": "markdown",
   "metadata": {},
   "source": [
    "## Syntax Directed Interpretation Fails!"
   ]
  },
  {
   "cell_type": "markdown",
   "metadata": {},
   "source": [
    "<!--\n",
    "\\index{forward jump}\n",
    "-->\n",
    "\n",
    "Trouble arises when we try to perform syntax directed interpretation of jump instructions. Consider,\n",
    "```Python\n",
    "def p_instr(p):\n",
    "    '''\n",
    "    instr :\n",
    "         ...\n",
    "         | JUMP label ';'\n",
    "         ...\n",
    "    '''\n",
    "    if p[1] == 'jump':\n",
    "        target = p[2]\n",
    "        # and we are in deep trouble - the jump target is not local!?!\n",
    "```\n",
    "Trying to do this in a syntax directed fashion gets us into deep trouble because the target of the jump instruction\n",
    "is not local to the syntactic unit of the jump instruction.  As a matter of fact, if the jump is a forward jump\n",
    "in the code then we will not have actually seen the target yet!\n",
    "\n",
    "Consider the following Exp1bytecode snippet,\n",
    "```\n",
    "      store x 10;\n",
    "      jumpT (= x 10) L1;\n",
    "      print 0;\n",
    "      stop\n",
    "L1:   print 1;\n",
    "      stop;\n",
    "```\n",
    "This program stores the value ten in `x`, then checks if `x` has the value ten.  \n",
    "If so, it jumps forward to the label `L1` and prints out the value one and stops the execution.\n",
    "Otherwise it prints out the value zero and stops the execution.\n",
    "It is a silly program but it illustrates the point quite nicely that the syntax directed processing of the `jumpT` statement\n",
    "will fail because at the point of interpreting the jump statement we have not seen the label definition yet."
   ]
  },
  {
   "cell_type": "markdown",
   "metadata": {},
   "source": [
    "# Decoupling Syntax Analysis and Semantic Processing"
   ]
  },
  {
   "cell_type": "markdown",
   "metadata": {},
   "source": [
    "<!--\n",
    "\\index{interpreter}\n",
    "\\index{syntax analysis}\n",
    "\\index{semantic analysis}\n",
    "\\index{intermediate representation}\n",
    "\\index{IR}\n",
    "-->\n",
    "\n",
    "In order to interpret languages like Exp1bytecode we need to decouple the syntax analysis from the actual interpretation, that is,\n",
    "we need to procrastinate with our interpretation of the program by first constructing an abstract representation of it, the *intermediate representation*, and then in turn evaluate or interpret this abstract representation once it has been completely constructed.\n",
    "This fits nicely with our architecture of an interpreter of Figure 6 in Chapter 1.\n",
    "There our interpreter has two phases that are coupled with an intermediate representation of the program.\n",
    "The first phase builds the intermediate representation and the second phase interprets the intermediate representation.\n",
    "\n",
    "We can say the following about any kind of intermediate representation\n",
    "> An intermediate representation (IR) is an abstract representation of the original program."
   ]
  },
  {
   "cell_type": "markdown",
   "metadata": {},
   "source": [
    "### An Abstract Machine based IR Design"
   ]
  },
  {
   "cell_type": "markdown",
   "metadata": {},
   "source": [
    "<!--\n",
    "\\index{IR design}\n",
    "-->\n",
    "\n",
    "Since the IR is at the core of our interpreter this makes a good IR design paramount,\n",
    "\n",
    "> A good IR should be easy to construct and easy to process.\n",
    "\n",
    "Here we take an approach to IR design that is driven by particular features of our language at hand.\n",
    "In our case we can view Exp1bytecode as representing an abstract machine."
   ]
  },
  {
   "cell_type": "markdown",
   "metadata": {},
   "source": [
    "## The Exp1bytecode Interpreter"
   ]
  },
  {
   "cell_type": "markdown",
   "metadata": {},
   "source": [
    "---\n",
    "<center>\n",
    "<img src=\"figures/chap04/1/figure/Slide1.jpg\" alt=\"\">\n",
    "Fig 1. IR design for the Exp1bytecode interpreter.\n",
    "</center>\n",
    "\n",
    "---\n"
   ]
  },
  {
   "cell_type": "markdown",
   "metadata": {},
   "source": [
    "If we look at the Exp1bytecode syntax we can identify three major characteristics of this language:\n",
    "\n",
    "* We have variables that hold values and these values can be changed and referenced by instructions.\n",
    "* We have conditional and unconditional jumps which use label definitions and references to specify the range of the jumps.\n",
    "* Programs in this language consist of a sequence of instructions.\n",
    "\n",
    "Given these features of Exp1bytecode and given the fact that the\n",
    "language looks like very abstract machine code, one design choice is to make our IR resemble a virtual machine that consists of three\n",
    "major components:\n",
    "\n",
    "* A symbol table to hold variable definitions.\n",
    "* A label table to hold label definitions.\n",
    "* A list of instructions.\n",
    " \n",
    "Figure 1 shows our IR design.\n",
    "Our abstract machine is shown with the program,\n",
    "```\n",
    "   store x 10 ;\n",
    "L1:\n",
    "   print x ;\n",
    "   store x (- x 1) ;\n",
    "   jumpT x L1 ;\n",
    "   stop ;\n",
    "```\n",
    "loaded and ready to be interpreted.\n",
    "Given that programs in the IR representation still look very much like the programs in the original textual representation the IR is easy to construct.\n",
    "Also, given that programs are represented as a list of instructions they are easy to interpret -- we simply \n",
    "walk down the list of instructions and execute each one in turn.\n",
    "So it seems that our IR design fulfills the two key points of IR design we made above: easy to construct and easy to process."
   ]
  },
  {
   "cell_type": "markdown",
   "metadata": {},
   "source": [
    "## This Solves Our Jump Problem!"
   ]
  },
  {
   "cell_type": "markdown",
   "metadata": {},
   "source": [
    "Now, let us just think through the issue with labels that we had before when we attempted a syntax directed approach to the interpretation of Exp1bytecode.\n",
    "In our new IR design labels behave much like variables in the sense that we have a definition point and we have label references.\n",
    "The definition points of labels are the labeled instructions and the reference points are the labels in the jump\n",
    "instructions.\n",
    "In order to deal with this effectively our IR uses a label table that records the address of the instructions that act as definition points for a particular labels.\n",
    "In our example in Figure 1 we see that the label table holds the label `L1` and the entry \n",
    "for this label points to the definition point of this label, namely the print statement in the program.\n",
    "Label references point back to the label table and therefore we can find and resolve the targets for any jumps that occur in a program.\n",
    "Also note that forward references are no longer a problem because during the syntax analysis phase we will have seen all label\n",
    "definition points and entered them into the label table before the semantic phase started.\n",
    "\n",
    "Here is an animation of the abstract machine executing our program."
   ]
  },
  {
   "cell_type": "markdown",
   "metadata": {},
   "source": [
    "<!-- chap04 q1 -->\n",
    "\n",
    "<a href=\"http://www.youtube.com/watch?feature=player_embedded&v=7oY-FS0jHvo\" target=\"_blank\">\n",
    "<img style='border:1px solid #000000' src=\"movie.jpg\" width=\"120\" height=\"90\" />\n",
    "</a>\n"
   ]
  },
  {
   "cell_type": "markdown",
   "metadata": {},
   "source": [
    "## IR Implementation"
   ]
  },
  {
   "cell_type": "markdown",
   "metadata": {},
   "source": [
    "In order to model our interpreter design we create a separate class to hold the machine state."
   ]
  },
  {
   "cell_type": "code",
   "execution_count": 5,
   "metadata": {
    "collapsed": true
   },
   "outputs": [],
   "source": [
    "# %load code/exp1bytecode_interp_state\n",
    "# define and initialize the structures of our abstract machine\n",
    "\n",
    "class State:\n",
    "\n",
    "    def __init__(self):\n",
    "        self.initialize()\n",
    "    \n",
    "    def initialize(self):\n",
    "        self.program = []\n",
    "        self.symbol_table = dict()\n",
    "        self.label_table = dict()\n",
    "        self.instr_ix = 0\n",
    "\n",
    "state = State()\n",
    "\n",
    "\n"
   ]
  },
  {
   "cell_type": "markdown",
   "metadata": {},
   "source": [
    "The module makes a `state` object available that will serve to hold the state of our abstract machine both during the construction of the IR as well as during the interpretation."
   ]
  },
  {
   "cell_type": "markdown",
   "metadata": {},
   "source": [
    "### The Parser"
   ]
  },
  {
   "cell_type": "markdown",
   "metadata": {},
   "source": [
    "The IR construction is embedded in the grammar specification for our parser.  Let's take a look."
   ]
  },
  {
   "cell_type": "markdown",
   "metadata": {},
   "source": [
    "```python\n",
    "# %load code/exp1bytecode_interp_gram\n",
    "from ply import yacc\n",
    "from exp1bytecode_lex import tokens, lexer\n",
    "from exp1bytecode_interp_state import state\n",
    "\n",
    "def p_prog(_):\n",
    "    '''\n",
    "    prog : instr_list\n",
    "    '''\n",
    "    pass\n",
    "\n",
    "def p_instr_list(_):\n",
    "    '''\n",
    "    instr_list : labeled_instr instr_list\n",
    "              | empty\n",
    "    '''\n",
    "    pass\n",
    "\n",
    "def p_labeled_instr(p):\n",
    "    '''\n",
    "    labeled_instr : label_def instr\n",
    "    '''\n",
    "    # if label exists record it in the label table\n",
    "    if p[1]:\n",
    "        state.label_table[p[1]] = state.instr_ix\n",
    "    # append instr to program\n",
    "    state.program.append(p[2])\n",
    "    state.instr_ix += 1\n",
    "\n",
    "def p_label_def(p):\n",
    "    '''\n",
    "    label_def : NAME ':' \n",
    "              | empty\n",
    "    '''\n",
    "    p[0] = p[1]\n",
    "\n",
    "def p_instr(p):\n",
    "    '''\n",
    "    instr : PRINT exp ';'\n",
    "          | INPUT NAME ';'\n",
    "          | STORE NAME exp ';'\n",
    "          | JUMPT exp label ';'\n",
    "          | JUMPF exp label ';'\n",
    "          | JUMP label ';'\n",
    "          | STOP ';'\n",
    "          | NOOP ';'\n",
    "    '''\n",
    "    # for each instr assemble the appropriate tuple\n",
    "    if p[1] == 'print':\n",
    "        p[0] = ('print', p[2])\n",
    "    elif p[1] == 'input':\n",
    "        p[0] = ('input', p[2])\n",
    "    elif p[1] == 'store':\n",
    "        p[0] = ('store', p[2], p[3])\n",
    "    elif p[1] == 'jumpT':\n",
    "        p[0] = ('jumpT', p[2], p[3])\n",
    "    elif p[1] == 'jumpF':\n",
    "        p[0] = ('jumpF', p[2], p[3])\n",
    "    elif p[1] == 'jump':\n",
    "        p[0] = ('jump', p[2])\n",
    "    elif p[1] == 'stop':\n",
    "        p[0] = ('stop',)\n",
    "    elif p[1] == 'noop':\n",
    "        p[0] = ('noop',)\n",
    "    else:\n",
    "        raise ValueError(\"Unexpected instr value: %s\" % p[1])\n",
    "\n",
    "def p_label(p):\n",
    "    '''\n",
    "        label : NAME\n",
    "        '''\n",
    "    p[0] = p[1]\n",
    "\n",
    "def p_bin_exp(p):\n",
    "    '''\n",
    "    exp : '+' exp exp\n",
    "        | '-' exp exp\n",
    "        | '*' exp exp\n",
    "        | '/' exp exp\n",
    "        | EQ exp exp\n",
    "        | LE exp exp\n",
    "    '''\n",
    "    p[0] = (p[1], p[2], p[3])\n",
    "    \n",
    "def p_uminus_exp(p):\n",
    "    '''\n",
    "    exp : '-' exp\n",
    "    '''\n",
    "    p[0] = ('UMINUS', p[2])\n",
    "    \n",
    "def p_not_exp(p):\n",
    "    '''\n",
    "    exp : '!' exp\n",
    "    '''\n",
    "    p[0] = ('!', p[2])\n",
    "    \n",
    "def p_paren_exp(p):\n",
    "    '''\n",
    "    exp : '(' exp ')'\n",
    "    '''\n",
    "    # parens are not necessary in trees\n",
    "    p[0] = p[2]\n",
    "    \n",
    "def p_var_exp(p):\n",
    "    '''\n",
    "    exp : NAME\n",
    "    '''\n",
    "    p[0] = ('NAME', p[1])\n",
    "\n",
    "def p_number_exp(p):\n",
    "    '''\n",
    "    exp : NUMBER\n",
    "    '''\n",
    "    p[0] = ('NUMBER', int(p[1]))\n",
    "\n",
    "def p_empty(p):\n",
    "    '''\n",
    "    empty :\n",
    "    '''\n",
    "    p[0] = ''\n",
    "\n",
    "def p_error(t):\n",
    "    print(\"Syntax error at '%s'\" % t.value)\n",
    "\n",
    "parser = yacc.yacc(debug=False, tabmodule='exp1bytecodeparsetab')\n",
    "```"
   ]
  },
  {
   "cell_type": "markdown",
   "metadata": {},
   "source": [
    "In our preamble we import `yacc`, the lexer stuff, and the state object of  our abstract machine.  For the purposes of constructing the IR we will access the label table for resolving jump targets, the program list for our instructions, and the instruction index variable that keeps track of where to insert instructions into the program list."
   ]
  },
  {
   "cell_type": "markdown",
   "metadata": {},
   "source": [
    "### Handling Lists of Instructions"
   ]
  },
  {
   "cell_type": "markdown",
   "metadata": {},
   "source": [
    "The first really interesting piece of code is the parsing function for the rule,\n",
    "```\n",
    "labeled_instr : label_def instr\n",
    "```\n",
    "The embedded action associated with this rule is,\n",
    "```Python\n",
    "# if label exists record it in the label table\n",
    "if p[1]:\n",
    "    state.label_table[p[1]] = state.instr_ix\n",
    "# append instr to program\n",
    "state.program.append(p[2])\n",
    "state.instr_ix += 1\n",
    "```\n",
    "The first thing to notice is that we referencing the data structures for our abstract machine.\n",
    "If the instruction is labeled then we record the label together with the current address in the \n",
    "label table.  We then append the instruction itself to the program list.\n",
    "\n",
    "Parsing instructions constructs tuples that consist of the name of the instruction together with its arguments. Take a look,\n",
    "```\n",
    "'''\n",
    "instr : PRINT exp ';'\n",
    "     ...\n",
    "      | JUMP label ';'\n",
    "     ...\n",
    "'''\n",
    "```\n",
    "```Python\n",
    "    # for each instr assemble the appropriate tuple\n",
    "    if p[1] == 'print':\n",
    "        p[0] = ('print', p[2])\n",
    "    ...\n",
    "    elif p[1] == 'jump':\n",
    "        p[0] = ('jump', p[2])\n",
    "    ...\n",
    "```\n",
    "Here the tuple for the print instruction consists of the name `print` and the expression that represents the value to be printed out.\n",
    "The tuple for the jump instruction consists of the name `jump` and the name of the target label.\n",
    "Similarly for all the other instructions."
   ]
  },
  {
   "cell_type": "markdown",
   "metadata": {},
   "source": [
    "### Handling Expressions"
   ]
  },
  {
   "cell_type": "markdown",
   "metadata": {},
   "source": [
    "Because we are delaying the evaluation of expressions until we have the IR constructed we need to \n",
    "have some sort of representation of the expression value that we can evaluate later to actually compute a value.\n",
    "The idea is that we construct an expression or term tree from the source expression and that term tree can then be evaluated later to compute an actual integer value.\n",
    "```\n",
    "'''\n",
    "exp : '+' exp exp\n",
    "    | '-' exp exp\n",
    "    | '*' exp exp\n",
    "    | '/' exp exp\n",
    "    | EQ exp exp\n",
    "    | LE exp exp\n",
    "'''\n",
    "```\n",
    "```Python\n",
    "p[0] = (p[1], p[2], p[3])\n",
    "```\n",
    "Here we construct a term tree from the binary expressions.  Terms are just tuples where the first component of\n",
    "the tuple is the name of the operator and the second and third components are the subexpressions of the binary expression.  In the embedded actions the variable `p[1]` holds the operator name and\n",
    "`p[2]` and `p[3]` represent the sub expression terms, respectively.  All three of these items form a term tuple which is assigned\n",
    "to the variable `p[0]`.\n",
    "\n",
    "According to these rules the expression,\n",
    "```\n",
    "=< + 3 2 * 3 2\n",
    "```\n",
    "gives rise to the term tree,\n",
    "```\n",
    "('=<', ('+', ('NUMBER', 3), ('NUMBER', 2)), ('*', ('NUMBER', 3), ('NUMBER', 2)))\n",
    "```"
   ]
  },
  {
   "cell_type": "markdown",
   "metadata": {},
   "source": [
    "### Testing the Parser"
   ]
  },
  {
   "cell_type": "markdown",
   "metadata": {},
   "source": [
    "Let's test run our parser.  We will use Python's builtin pretty printer to print out our `program` which is \n",
    "a list of statement tuples."
   ]
  },
  {
   "cell_type": "code",
   "execution_count": 7,
   "metadata": {},
   "outputs": [],
   "source": [
    "from exp1bytecode_interp_state import state\n",
    "from exp1bytecode_interp_gram import parser\n",
    "from exp1bytecode_lex import lexer\n",
    "import pprint\n",
    "pp = pprint.PrettyPrinter()"
   ]
  },
  {
   "cell_type": "markdown",
   "metadata": {},
   "source": [
    "Setting up the input stream with our Exp1bytecode program."
   ]
  },
  {
   "cell_type": "code",
   "execution_count": 8,
   "metadata": {
    "collapsed": true
   },
   "outputs": [],
   "source": [
    "input_stream = \\\n",
    "'''\n",
    "   store x 10 ;\n",
    "L1:\n",
    "   print x ;\n",
    "   store x (- x 1) ;\n",
    "   jumpT x L1 ;\n",
    "   stop ;\n",
    "'''"
   ]
  },
  {
   "cell_type": "markdown",
   "metadata": {},
   "source": [
    "Running the parser."
   ]
  },
  {
   "cell_type": "code",
   "execution_count": 9,
   "metadata": {},
   "outputs": [],
   "source": [
    "parser.parse(input_stream)"
   ]
  },
  {
   "cell_type": "markdown",
   "metadata": {},
   "source": [
    "We have parsed the input program.  We can look at the structures in our abstract machine and we will find\n",
    "that it has all been appropriately initialized."
   ]
  },
  {
   "cell_type": "code",
   "execution_count": 10,
   "metadata": {
    "scrolled": true
   },
   "outputs": [
    {
     "name": "stdout",
     "output_type": "stream",
     "text": [
      "[('store', 'x', ('NUMBER', 10)),\n",
      " ('print', ('NAME', 'x')),\n",
      " ('store', 'x', ('-', ('NAME', 'x'), ('NUMBER', 1))),\n",
      " ('jumpT', ('NAME', 'x'), 'L1'),\n",
      " ('stop',)]\n"
     ]
    }
   ],
   "source": [
    "# print out the program list of statement tuples\n",
    "pp.pprint(state.program)"
   ]
  },
  {
   "cell_type": "code",
   "execution_count": 11,
   "metadata": {},
   "outputs": [
    {
     "name": "stdout",
     "output_type": "stream",
     "text": [
      "{'L1': 1}\n"
     ]
    }
   ],
   "source": [
    "# print out the label table\n",
    "pp.pprint(state.label_table)"
   ]
  },
  {
   "cell_type": "markdown",
   "metadata": {},
   "source": [
    "The label table is interesting because here we see that the lable `L1` points to instruction 1 in the list of instructions, namely the instruction `print x`.  Exactly what we expected."
   ]
  },
  {
   "cell_type": "code",
   "execution_count": 12,
   "metadata": {},
   "outputs": [
    {
     "name": "stdout",
     "output_type": "stream",
     "text": [
      "{}\n"
     ]
    }
   ],
   "source": [
    "# print the symbol table\n",
    "pp.pprint(state.symbol_table)"
   ]
  },
  {
   "cell_type": "markdown",
   "metadata": {},
   "source": [
    "The symbol table is empty since we have not executed the program yet! We have just initialized our abstract machine."
   ]
  },
  {
   "cell_type": "markdown",
   "metadata": {},
   "source": [
    "### Interpreting the IR"
   ]
  },
  {
   "cell_type": "markdown",
   "metadata": {},
   "source": [
    "In order to interpret the programs in our IR we need two functions.  The first one is the interpretation of instructions on the program list."
   ]
  },
  {
   "cell_type": "code",
   "execution_count": 13,
   "metadata": {},
   "outputs": [],
   "source": [
    "# %load -s interp_program code/exp1bytecode_interp.py\n",
    "def interp_program():\n",
    "    'execute abstract bytecode machine'\n",
    "    \n",
    "    # We cannot use the list iterator here because we\n",
    "    # need to be able to interpret jump instructions\n",
    "    \n",
    "    # start at the first instruction in program\n",
    "    state.instr_ix = 0\n",
    "    \n",
    "    # keep interpreting until we run out of instructions\n",
    "    # or we hit a 'stop'\n",
    "    while True:\n",
    "        if state.instr_ix == len(state.program):\n",
    "            # no more instructions\n",
    "            break\n",
    "        else:\n",
    "            # get instruction from program\n",
    "            instr = state.program[state.instr_ix]\n",
    "        \n",
    "        # instruction format: (type, [arg1, arg2, ...])\n",
    "        type = instr[0]\n",
    "        \n",
    "        # interpret instruction\n",
    "        if type == 'print':\n",
    "            # PRINT exp\n",
    "            exp_tree = instr[1]\n",
    "            val = eval_exp_tree(exp_tree)\n",
    "            print(\"> {}\".format(val))\n",
    "            state.instr_ix += 1\n",
    "        \n",
    "        elif type == 'store':\n",
    "            # STORE type exp\n",
    "            var_name = instr[1]\n",
    "            val = eval_exp_tree(instr[2])\n",
    "            state.symbol_table[var_name] = val\n",
    "            state.instr_ix += 1\n",
    "\n",
    "        elif type == 'jumpT':\n",
    "            # JUMPT exp label\n",
    "            val = eval_exp_tree(instr[1])\n",
    "            if val:\n",
    "                state.instr_ix = state.label_table.get(instr[2], None)\n",
    "            else:\n",
    "                state.instr_ix += 1\n",
    "\n",
    "        elif type == 'jumpF':\n",
    "            # JUMPF exp label\n",
    "            val = eval_exp_tree(instr[1])\n",
    "            if not val:\n",
    "                state.instr_ix = state.label_table.get(instr[2], None)\n",
    "            else:\n",
    "                state.instr_ix += 1\n",
    "\n",
    "        elif type == 'jump':\n",
    "            # JUMP label\n",
    "            state.instr_ix = state.label_table.get(instr[1], None)\n",
    "        \n",
    "        elif type == 'stop':\n",
    "            # STOP\n",
    "            break\n",
    "\n",
    "        elif type == 'noop':\n",
    "            # NOOP\n",
    "            state.instr_ix += 1\n",
    "        \n",
    "        else:\n",
    "            raise ValueError(\"Unexpected instruction type: {}\".format(p[1]))\n"
   ]
  },
  {
   "cell_type": "markdown",
   "metadata": {},
   "source": [
    "This function consists of one big `while` loop that fetches the next instruction from the program list.  It looks at the first component of the instruction tuple in order to determine what kind of instruction we are looking at then interprets that function accordingly.  Expression terms are evaluated to integer values using the `eval_exp_tree`\n",
    "function.\n",
    "\n",
    "In order to have a complete interpreter for our abstract machine we need to provide the function `eval_exp_tree`."
   ]
  },
  {
   "cell_type": "code",
   "execution_count": 14,
   "metadata": {},
   "outputs": [],
   "source": [
    "# %load -s eval_exp_tree code/exp1bytecode_interp.py\n",
    "def eval_exp_tree(node):\n",
    "    'walk expression tree and evaluate to an integer value'\n",
    "\n",
    "    # tree nodes are tuples (TYPE, [arg1, arg2,...])\n",
    "    \n",
    "    type = node[0]\n",
    "    \n",
    "    if type == '+':\n",
    "        # '+' exp exp\n",
    "        v_left = eval_exp_tree(node[1])\n",
    "        v_right = eval_exp_tree(node[2])\n",
    "        return v_left + v_right\n",
    "    \n",
    "    elif type == '-':\n",
    "        # '-' exp exp\n",
    "        v_left = eval_exp_tree(node[1])\n",
    "        v_right = eval_exp_tree(node[2])\n",
    "        return v_left - v_right\n",
    "    \n",
    "    elif type == '*':\n",
    "        # '*' exp exp\n",
    "        v_left = eval_exp_tree(node[1])\n",
    "        v_right = eval_exp_tree(node[2])\n",
    "        return v_left * v_right\n",
    "    \n",
    "    elif type == '/':\n",
    "        # '/' exp exp\n",
    "        v_left = eval_exp_tree(node[1])\n",
    "        v_right = eval_exp_tree(node[2])\n",
    "        return v_left // v_right\n",
    "    \n",
    "    elif type == '=':\n",
    "        # '=' exp exp\n",
    "        v_left = eval_exp_tree(node[1])\n",
    "        v_right = eval_exp_tree(node[2])\n",
    "        return v_left == v_right\n",
    "    \n",
    "    elif type == '=<':\n",
    "        # '=<' exp exp\n",
    "        v_left = eval_exp_tree(node[1])\n",
    "        v_right = eval_exp_tree(node[2])\n",
    "        return v_left <= v_right\n",
    "    \n",
    "    elif type == 'UMINUS':\n",
    "        # 'UMINUS' exp\n",
    "        val = eval_exp_tree(node[1])\n",
    "        return - val\n",
    "    \n",
    "    elif type == 'NAME':\n",
    "        # 'NAME' var_name\n",
    "        return state.symbol_table.get(node[1],0)\n",
    "\n",
    "    elif type == 'NUMBER':\n",
    "        # NUMBER val\n",
    "        return node[1]\n"
   ]
  },
  {
   "cell_type": "markdown",
   "metadata": {},
   "source": [
    "We can test our expression evaluation with the expression from before,\n",
    "```\n",
    "=< + 3 2 * 3 2\n",
    "```"
   ]
  },
  {
   "cell_type": "code",
   "execution_count": 15,
   "metadata": {},
   "outputs": [
    {
     "data": {
      "text/plain": [
       "True"
      ]
     },
     "execution_count": 15,
     "metadata": {},
     "output_type": "execute_result"
    }
   ],
   "source": [
    "eval_exp_tree(('=<', ('+', ('NUMBER', 3), ('NUMBER', 2)), ('*', ('NUMBER', 3), (('NUMBER', 2)))))\n"
   ]
  },
  {
   "cell_type": "markdown",
   "metadata": {},
   "source": [
    "### Running our Interpretation Functions"
   ]
  },
  {
   "cell_type": "markdown",
   "metadata": {},
   "source": [
    "We can now interpret Exp1bytecode.  Recall that the program is loaded in the abstract machine"
   ]
  },
  {
   "cell_type": "code",
   "execution_count": 16,
   "metadata": {},
   "outputs": [
    {
     "name": "stdout",
     "output_type": "stream",
     "text": [
      "[('store', 'x', ('NUMBER', 10)),\n",
      " ('print', ('NAME', 'x')),\n",
      " ('store', 'x', ('-', ('NAME', 'x'), ('NUMBER', 1))),\n",
      " ('jumpT', ('NAME', 'x'), 'L1'),\n",
      " ('stop',)]\n"
     ]
    }
   ],
   "source": [
    "pp.pprint(state.program)"
   ]
  },
  {
   "cell_type": "markdown",
   "metadata": {},
   "source": [
    "Running the program by calling our `interp_program` function."
   ]
  },
  {
   "cell_type": "code",
   "execution_count": 17,
   "metadata": {},
   "outputs": [
    {
     "name": "stdout",
     "output_type": "stream",
     "text": [
      "> 10\n",
      "> 9\n",
      "> 8\n",
      "> 7\n",
      "> 6\n",
      "> 5\n",
      "> 4\n",
      "> 3\n",
      "> 2\n",
      "> 1\n"
     ]
    }
   ],
   "source": [
    "interp_program()\n"
   ]
  },
  {
   "cell_type": "markdown",
   "metadata": {},
   "source": [
    "After we ran our program, the symbol table is no longer empty, but it now contains our binding for the `x` variable."
   ]
  },
  {
   "cell_type": "code",
   "execution_count": 18,
   "metadata": {},
   "outputs": [
    {
     "name": "stdout",
     "output_type": "stream",
     "text": [
      "{'x': 0}\n"
     ]
    }
   ],
   "source": [
    "print(state.symbol_table)"
   ]
  },
  {
   "cell_type": "markdown",
   "metadata": {},
   "source": [
    "### Toplevel Interpreter Function"
   ]
  },
  {
   "cell_type": "markdown",
   "metadata": {},
   "source": [
    "In order to tie everything together, here is a toplevel function,"
   ]
  },
  {
   "cell_type": "code",
   "execution_count": 19,
   "metadata": {},
   "outputs": [],
   "source": [
    "# %load -s interp code/exp1bytecode_interp.py\n",
    "def interp(input_stream):\n",
    "    'driver for our Exp1bytecode interpreter.'\n",
    "\n",
    "    # initialize our abstract machine\n",
    "    state.initialize()\n",
    "    \n",
    "    # build the IR\n",
    "    parser.parse(input_stream, lexer=lexer)\n",
    "    \n",
    "    # interpret the IR\n",
    "    interp_program()\n",
    "\n"
   ]
  },
  {
   "cell_type": "markdown",
   "metadata": {},
   "source": [
    "Set up the environment for our interpreter."
   ]
  },
  {
   "cell_type": "code",
   "execution_count": 23,
   "metadata": {
    "collapsed": true
   },
   "outputs": [],
   "source": [
    "input_stream = \\\n",
    "'''\n",
    "   store x 10 ;\n",
    "L1:\n",
    "   print x ;\n",
    "   store x (- x 1) ;\n",
    "   jumpT x L1 ;\n",
    "   stop ;\n",
    "'''"
   ]
  },
  {
   "cell_type": "markdown",
   "metadata": {},
   "source": [
    "Here we go!"
   ]
  },
  {
   "cell_type": "code",
   "execution_count": 24,
   "metadata": {},
   "outputs": [
    {
     "name": "stdout",
     "output_type": "stream",
     "text": [
      "> 10\n",
      "> 9\n",
      "> 8\n",
      "> 7\n",
      "> 6\n",
      "> 5\n",
      "> 4\n",
      "> 3\n",
      "> 2\n",
      "> 1\n"
     ]
    }
   ],
   "source": [
    "interp(input_stream)"
   ]
  },
  {
   "cell_type": "markdown",
   "metadata": {},
   "source": [
    "# Summary"
   ]
  },
  {
   "cell_type": "markdown",
   "metadata": {},
   "source": [
    "We began this chapter by showing that certain programming language features such as the jump instructions in Exp1bytecode cannot be processed using a syntax directed scheme.  In order to interpret languages that have\n",
    "such features we have to decouple the syntactic phase and the semantic phase of our interpreter.\n",
    "As an example we constructed an interpreter for Exp1bytecode whose IR is a representation of an abstract machine.\n",
    "Here the state contained an instruction list, a label table, a symbol table, and an instruction index.\n",
    "The syntax phase of the interpreter fills this structure out and the semantic phase then uses this information to execute the program now stored in the instruction list."
   ]
  },
  {
   "cell_type": "markdown",
   "metadata": {},
   "source": [
    "# Notes"
   ]
  },
  {
   "cell_type": "markdown",
   "metadata": {},
   "source": [
    "Any compiler book will have a thorough discussion on intermediate representations (Watson, 2017; Cooper & Torcson, 2011; Appel, 2004).  Wikipedia has some nice entries on\n",
    "[intermediate representations](https://en.wikipedia.org/wiki/Intermediate_representation)\n",
    "and\n",
    "[bytecode](https://en.wikipedia.org/wiki/Bytecode).\n",
    "\n",
    "\n",
    "\n",
    "Watson, D. (2017). A Practical Approach to Compiler Construction.\n",
    "\n",
    "Cooper, K., & Torczon, L. (2011). *Engineering a compiler*. Elsevier.\n",
    "\n",
    "Appel, A. W. (2004). Modern compiler implementation in C. Cambridge university press.\n"
   ]
  },
  {
   "cell_type": "markdown",
   "metadata": {},
   "source": [
    "# Exercises"
   ]
  },
  {
   "cell_type": "markdown",
   "metadata": {},
   "source": [
    "1. How would you change Exp1bytecode to make it amenable for syntax-directed interpretation? \n",
    "(**Hint:** Add structured programming constructs.) Implement a grammar specification for your new language and illustrate that it can support syntax-directed interpretation.\n",
    "\n",
    "2. Consider our Exp1bytecode language given in the grammar above. Add a new branching instruction called `compare` to the language. The syntax of this instruction is as follows,\n",
    "```\n",
    "instr: COMPARE exp exp label label label ';' \n",
    "```\n",
    "and the semantics of this instruction can be described like this,\n",
    "  - If the first expression has a value less than the second expression then jump to the first label.\n",
    "  - If the expressions have equal values then jump to the second label.\n",
    "  - If the first expression has a value larger than the second expression then jump to the third label.\n",
    "\n",
    "  Modify the interpreter for Exp1bytecode to accommodate this new instruction.\n",
    "\n",
    "3. Implement the Boolean operations `and` and `or` in the Exp1bytecode interpreter."
   ]
  },
  {
   "cell_type": "code",
   "execution_count": null,
   "metadata": {
    "collapsed": true
   },
   "outputs": [],
   "source": []
  }
 ],
 "metadata": {
  "kernelspec": {
   "display_name": "Python 3",
   "language": "python",
   "name": "python3"
  },
  "language_info": {
   "codemirror_mode": {
    "name": "ipython",
    "version": 3
   },
   "file_extension": ".py",
   "mimetype": "text/x-python",
   "name": "python",
   "nbconvert_exporter": "python",
   "pygments_lexer": "ipython3",
   "version": "3.7.6"
  }
 },
 "nbformat": 4,
 "nbformat_minor": 2
}
