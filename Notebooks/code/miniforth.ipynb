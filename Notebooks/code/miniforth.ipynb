{
 "cells": [
  {
   "cell_type": "code",
   "execution_count": 1,
   "metadata": {},
   "outputs": [],
   "source": [
    "from miniforth_lex import lexer\n",
    "from miniforth_gram import parser"
   ]
  },
  {
   "cell_type": "code",
   "execution_count": 2,
   "metadata": {},
   "outputs": [],
   "source": [
    "p1 = \\\n",
    "'''\n",
    "\"Hello World!\" ! . \n",
    "'''\n",
    "\n",
    "p2 = \\\n",
    "'''\n",
    "1 .\n",
    "'''\n",
    "\n",
    "p3 = \\\n",
    "'''\n",
    "1 2 + .\n",
    "'''\n",
    "\n",
    "p4 = \\\n",
    "'''\n",
    "VARIABLE x x .\n",
    "'''\n",
    "\n",
    "p5 = \\\n",
    "'''\n",
    "VARIABLE x 3 x ! x @ .\n",
    "'''\n",
    "\n",
    "p6 = \\\n",
    "'''\n",
    "TRUE IF \"true\" . ELSE \"false\" . THEN\n",
    "'''\n",
    "\n",
    "p7 = \\\n",
    "'''\n",
    "VARIABLE x 3 x ! x @ x @ * .\n",
    "'''\n",
    "\n",
    "p8 = \\\n",
    "'''\n",
    "3 BEGIN DUP 0 > WHILE DUP . \" \" . 1 - REPEAT\n",
    "'''"
   ]
  },
  {
   "cell_type": "code",
   "execution_count": 3,
   "metadata": {},
   "outputs": [],
   "source": [
    "parser.parse(p1,lexer=lexer)"
   ]
  },
  {
   "cell_type": "code",
   "execution_count": 4,
   "metadata": {},
   "outputs": [],
   "source": [
    "parser.parse(p2,lexer=lexer)"
   ]
  },
  {
   "cell_type": "code",
   "execution_count": 5,
   "metadata": {},
   "outputs": [],
   "source": [
    "parser.parse(p3,lexer=lexer)"
   ]
  },
  {
   "cell_type": "code",
   "execution_count": 6,
   "metadata": {},
   "outputs": [],
   "source": [
    "parser.parse(p4,lexer=lexer)"
   ]
  },
  {
   "cell_type": "code",
   "execution_count": 7,
   "metadata": {},
   "outputs": [],
   "source": [
    "parser.parse(p5,lexer=lexer)"
   ]
  },
  {
   "cell_type": "code",
   "execution_count": 8,
   "metadata": {},
   "outputs": [],
   "source": [
    "parser.parse(p6,lexer=lexer)"
   ]
  },
  {
   "cell_type": "code",
   "execution_count": 9,
   "metadata": {},
   "outputs": [],
   "source": [
    "parser.parse(p7,lexer=lexer)"
   ]
  },
  {
   "cell_type": "code",
   "execution_count": 10,
   "metadata": {},
   "outputs": [],
   "source": [
    "parser.parse(p8,lexer=lexer)"
   ]
  },
  {
   "cell_type": "markdown",
   "metadata": {},
   "source": [
    "Parser works!"
   ]
  },
  {
   "cell_type": "code",
   "execution_count": null,
   "metadata": {},
   "outputs": [],
   "source": []
  }
 ],
 "metadata": {
  "kernelspec": {
   "display_name": "Python 3",
   "language": "python",
   "name": "python3"
  },
  "language_info": {
   "codemirror_mode": {
    "name": "ipython",
    "version": 3
   },
   "file_extension": ".py",
   "mimetype": "text/x-python",
   "name": "python",
   "nbconvert_exporter": "python",
   "pygments_lexer": "ipython3",
   "version": "3.7.6"
  }
 },
 "nbformat": 4,
 "nbformat_minor": 2
}
